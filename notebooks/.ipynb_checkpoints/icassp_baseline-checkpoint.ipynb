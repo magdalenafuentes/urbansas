{
 "cells": [
  {
   "cell_type": "code",
   "execution_count": 1,
   "id": "75fdc45e-8537-4b59-b9a5-5ab8f24ed04e",
   "metadata": {},
   "outputs": [],
   "source": [
    "%load_ext autoreload\n",
    "%autoreload 2"
   ]
  },
  {
   "cell_type": "code",
   "execution_count": 133,
   "id": "65b0ea3b-43d1-4f90-9c2a-b8e4512ccdcb",
   "metadata": {},
   "outputs": [],
   "source": [
    "import os\n",
    "import glob\n",
    "import h5py\n",
    "import json\n",
    "import numpy as np\n",
    "import pandas as pd\n",
    "from pathlib import Path\n",
    "from tqdm import tqdm\n",
    "import matplotlib.pyplot as plt\n",
    "from ots_embedding.eval import iou_score, eval_video"
   ]
  },
  {
   "cell_type": "code",
   "execution_count": 3,
   "id": "a6a64e84-dd3b-4700-af5b-c5a5b626f435",
   "metadata": {},
   "outputs": [],
   "source": [
    "PREDICTIONS_PATH = '/Users/mf3734/Documents/repos/urban_sight-and-sound/baseline/'"
   ]
  },
  {
   "cell_type": "code",
   "execution_count": 200,
   "id": "d4b80547-cafd-467d-9251-7b02d1724bb6",
   "metadata": {},
   "outputs": [
    {
     "data": {
      "text/plain": [
       "(['predictions_bbox-confirmed-0',\n",
       "  'predictions_pwstrict',\n",
       "  'predictions_120',\n",
       "  'predictions_linear',\n",
       "  'predictions_120_verified',\n",
       "  'predictions_pw05',\n",
       "  'predictions_boxes',\n",
       "  'predictions_confirmed_labels',\n",
       "  'checkpoints-bbox-confirmed-0'],\n",
       " 'predictions_bbox-confirmed-0')"
      ]
     },
     "execution_count": 200,
     "metadata": {},
     "output_type": "execute_result"
    }
   ],
   "source": [
    "models = [m for m in os.listdir(PREDICTIONS_PATH) if 'json' not in m]\n",
    "model = models[0]\n",
    "models, model"
   ]
  },
  {
   "cell_type": "code",
   "execution_count": 201,
   "id": "3f5c83fb-34fc-445e-a3ef-5542ed9a1f05",
   "metadata": {},
   "outputs": [
    {
     "name": "stdout",
     "output_type": "stream",
     "text": [
      "['/Users/mf3734/Documents/repos/urban_sight-and-sound/baseline/predictions_bbox-confirmed-0/tau2021_f2_scratch/TAU2021-f2-epoch036.h5'\n",
      " '/Users/mf3734/Documents/repos/urban_sight-and-sound/baseline/predictions_bbox-confirmed-0/tau2021_f3_scratch/TAU2021-f3-epoch046.h5'\n",
      " '/Users/mf3734/Documents/repos/urban_sight-and-sound/baseline/predictions_bbox-confirmed-0/tau2021_f1_scratch/TAU2021-f1-epoch088.h5'\n",
      " '/Users/mf3734/Documents/repos/urban_sight-and-sound/baseline/predictions_bbox-confirmed-0/tau2021_f0_scratch/TAU2021-f0-epoch034.h5'\n",
      " '/Users/mf3734/Documents/repos/urban_sight-and-sound/baseline/predictions_bbox-confirmed-0/tau2021_f4_scratch/TAU2021-f4-epoch058.h5']\n",
      "980\n"
     ]
    }
   ],
   "source": [
    "pred_path = np.array(glob.glob(os.path.join(PREDICTIONS_PATH, model, \"**\", \"*.h5\")))\n",
    "# print(pred_path)\n",
    "\n",
    "# pred_path = pred_path[[1,3,5,6,9]]\n",
    "print(pred_path)\n",
    "\n",
    "pred = {}\n",
    "for file_path in pred_path:\n",
    "    with h5py.File(file_path,'r' ) as f:\n",
    "        for uid in f.keys():\n",
    "            pred[uid] = {\n",
    "                'time': np.array(f[uid]['time']),\n",
    "                'pred': np.array(f[uid]['pred']),\n",
    "            }\n",
    "print(len(pred))"
   ]
  },
  {
   "cell_type": "code",
   "execution_count": 202,
   "id": "a11611bd-6015-454b-959b-4a33bd1261d3",
   "metadata": {},
   "outputs": [
    {
     "data": {
      "text/plain": [
       "PosixPath('/Users/mf3734/Documents/repos/urban_sight-and-sound/baseline/TAU2021_bbox-confirmed-0.json')"
      ]
     },
     "execution_count": 202,
     "metadata": {},
     "output_type": "execute_result"
    }
   ],
   "source": [
    "INDEX_PATH = Path(os.path.join(PREDICTIONS_PATH, f\"TAU2021_{model[12:]}.json\"))\n",
    "INDEX_PATH"
   ]
  },
  {
   "cell_type": "code",
   "execution_count": 115,
   "id": "85d5ec00-c212-400c-8c1b-4db121a3a4f2",
   "metadata": {},
   "outputs": [],
   "source": [
    "# index = pd.read_json(INDEX_PATH).transpose()\n",
    "# index"
   ]
  },
  {
   "cell_type": "code",
   "execution_count": 203,
   "id": "4cd2453c-3cb9-4a99-93c9-3ac8a12be522",
   "metadata": {},
   "outputs": [
    {
     "data": {
      "text/html": [
       "<div>\n",
       "<style scoped>\n",
       "    .dataframe tbody tr th:only-of-type {\n",
       "        vertical-align: middle;\n",
       "    }\n",
       "\n",
       "    .dataframe tbody tr th {\n",
       "        vertical-align: top;\n",
       "    }\n",
       "\n",
       "    .dataframe thead th {\n",
       "        text-align: right;\n",
       "    }\n",
       "</style>\n",
       "<table border=\"1\" class=\"dataframe\">\n",
       "  <thead>\n",
       "    <tr style=\"text-align: right;\">\n",
       "      <th></th>\n",
       "      <th>path</th>\n",
       "      <th>events</th>\n",
       "      <th>non_identifiable_vehicle_sound</th>\n",
       "      <th>night</th>\n",
       "      <th>snow</th>\n",
       "      <th>sr</th>\n",
       "      <th>format</th>\n",
       "      <th>channels</th>\n",
       "      <th>duration</th>\n",
       "      <th>fold</th>\n",
       "    </tr>\n",
       "  </thead>\n",
       "  <tbody>\n",
       "    <tr>\n",
       "      <th>123</th>\n",
       "      <td>audio/magallanes0308_01_0.wav</td>\n",
       "      <td>[{'label': 'car', 'start': 1.333, 'end': 2.066...</td>\n",
       "      <td>False</td>\n",
       "      <td>False</td>\n",
       "      <td>False</td>\n",
       "      <td>48000</td>\n",
       "      <td>WAV</td>\n",
       "      <td>2</td>\n",
       "      <td>10.0</td>\n",
       "      <td>4</td>\n",
       "    </tr>\n",
       "    <tr>\n",
       "      <th>124</th>\n",
       "      <td>audio/magallanes0308_01_1.wav</td>\n",
       "      <td>[{'label': '-1', 'start': -1.0, 'end': -1.0, '...</td>\n",
       "      <td>False</td>\n",
       "      <td>False</td>\n",
       "      <td>False</td>\n",
       "      <td>48000</td>\n",
       "      <td>WAV</td>\n",
       "      <td>2</td>\n",
       "      <td>10.0</td>\n",
       "      <td>2</td>\n",
       "    </tr>\n",
       "    <tr>\n",
       "      <th>125</th>\n",
       "      <td>audio/magallanes0308_01_10.wav</td>\n",
       "      <td>[{'label': 'car', 'start': 0.7780000000000058,...</td>\n",
       "      <td>False</td>\n",
       "      <td>False</td>\n",
       "      <td>False</td>\n",
       "      <td>48000</td>\n",
       "      <td>WAV</td>\n",
       "      <td>2</td>\n",
       "      <td>10.0</td>\n",
       "      <td>2</td>\n",
       "    </tr>\n",
       "    <tr>\n",
       "      <th>126</th>\n",
       "      <td>audio/magallanes0308_01_11.wav</td>\n",
       "      <td>[{'label': 'bus', 'start': 1.1230000000000049,...</td>\n",
       "      <td>False</td>\n",
       "      <td>False</td>\n",
       "      <td>False</td>\n",
       "      <td>48000</td>\n",
       "      <td>WAV</td>\n",
       "      <td>2</td>\n",
       "      <td>10.0</td>\n",
       "      <td>1</td>\n",
       "    </tr>\n",
       "    <tr>\n",
       "      <th>127</th>\n",
       "      <td>audio/magallanes0308_01_12.wav</td>\n",
       "      <td>[{'label': 'car', 'start': 3.722999999999999, ...</td>\n",
       "      <td>False</td>\n",
       "      <td>False</td>\n",
       "      <td>False</td>\n",
       "      <td>48000</td>\n",
       "      <td>WAV</td>\n",
       "      <td>2</td>\n",
       "      <td>10.0</td>\n",
       "      <td>3</td>\n",
       "    </tr>\n",
       "    <tr>\n",
       "      <th>...</th>\n",
       "      <td>...</td>\n",
       "      <td>...</td>\n",
       "      <td>...</td>\n",
       "      <td>...</td>\n",
       "      <td>...</td>\n",
       "      <td>...</td>\n",
       "      <td>...</td>\n",
       "      <td>...</td>\n",
       "      <td>...</td>\n",
       "      <td>...</td>\n",
       "    </tr>\n",
       "    <tr>\n",
       "      <th>1877</th>\n",
       "      <td>audio/templete0103_02_5.wav</td>\n",
       "      <td>[{'label': '-1', 'start': -1.0, 'end': -1.0, '...</td>\n",
       "      <td>False</td>\n",
       "      <td>False</td>\n",
       "      <td>False</td>\n",
       "      <td>48000</td>\n",
       "      <td>WAV</td>\n",
       "      <td>2</td>\n",
       "      <td>10.0</td>\n",
       "      <td>2</td>\n",
       "    </tr>\n",
       "    <tr>\n",
       "      <th>1878</th>\n",
       "      <td>audio/templete0103_02_6.wav</td>\n",
       "      <td>[{'label': 'truck', 'start': 0.935000000000002...</td>\n",
       "      <td>False</td>\n",
       "      <td>False</td>\n",
       "      <td>False</td>\n",
       "      <td>48000</td>\n",
       "      <td>WAV</td>\n",
       "      <td>2</td>\n",
       "      <td>10.0</td>\n",
       "      <td>3</td>\n",
       "    </tr>\n",
       "    <tr>\n",
       "      <th>1879</th>\n",
       "      <td>audio/templete0103_02_7.wav</td>\n",
       "      <td>[{'label': 'bus', 'start': 0.7980000000000018,...</td>\n",
       "      <td>False</td>\n",
       "      <td>False</td>\n",
       "      <td>False</td>\n",
       "      <td>48000</td>\n",
       "      <td>WAV</td>\n",
       "      <td>2</td>\n",
       "      <td>10.0</td>\n",
       "      <td>0</td>\n",
       "    </tr>\n",
       "    <tr>\n",
       "      <th>1880</th>\n",
       "      <td>audio/templete0103_02_8.wav</td>\n",
       "      <td>[{'label': '-1', 'start': -1.0, 'end': -1.0, '...</td>\n",
       "      <td>False</td>\n",
       "      <td>False</td>\n",
       "      <td>False</td>\n",
       "      <td>48000</td>\n",
       "      <td>WAV</td>\n",
       "      <td>2</td>\n",
       "      <td>10.0</td>\n",
       "      <td>4</td>\n",
       "    </tr>\n",
       "    <tr>\n",
       "      <th>1881</th>\n",
       "      <td>audio/templete0103_02_9.wav</td>\n",
       "      <td>[{'label': '-1', 'start': -1.0, 'end': -1.0, '...</td>\n",
       "      <td>False</td>\n",
       "      <td>False</td>\n",
       "      <td>False</td>\n",
       "      <td>48000</td>\n",
       "      <td>WAV</td>\n",
       "      <td>2</td>\n",
       "      <td>10.0</td>\n",
       "      <td>4</td>\n",
       "    </tr>\n",
       "  </tbody>\n",
       "</table>\n",
       "<p>980 rows × 10 columns</p>\n",
       "</div>"
      ],
      "text/plain": [
       "                                path  \\\n",
       "123    audio/magallanes0308_01_0.wav   \n",
       "124    audio/magallanes0308_01_1.wav   \n",
       "125   audio/magallanes0308_01_10.wav   \n",
       "126   audio/magallanes0308_01_11.wav   \n",
       "127   audio/magallanes0308_01_12.wav   \n",
       "...                              ...   \n",
       "1877     audio/templete0103_02_5.wav   \n",
       "1878     audio/templete0103_02_6.wav   \n",
       "1879     audio/templete0103_02_7.wav   \n",
       "1880     audio/templete0103_02_8.wav   \n",
       "1881     audio/templete0103_02_9.wav   \n",
       "\n",
       "                                                 events  \\\n",
       "123   [{'label': 'car', 'start': 1.333, 'end': 2.066...   \n",
       "124   [{'label': '-1', 'start': -1.0, 'end': -1.0, '...   \n",
       "125   [{'label': 'car', 'start': 0.7780000000000058,...   \n",
       "126   [{'label': 'bus', 'start': 1.1230000000000049,...   \n",
       "127   [{'label': 'car', 'start': 3.722999999999999, ...   \n",
       "...                                                 ...   \n",
       "1877  [{'label': '-1', 'start': -1.0, 'end': -1.0, '...   \n",
       "1878  [{'label': 'truck', 'start': 0.935000000000002...   \n",
       "1879  [{'label': 'bus', 'start': 0.7980000000000018,...   \n",
       "1880  [{'label': '-1', 'start': -1.0, 'end': -1.0, '...   \n",
       "1881  [{'label': '-1', 'start': -1.0, 'end': -1.0, '...   \n",
       "\n",
       "     non_identifiable_vehicle_sound  night   snow     sr format  channels  \\\n",
       "123                           False  False  False  48000    WAV         2   \n",
       "124                           False  False  False  48000    WAV         2   \n",
       "125                           False  False  False  48000    WAV         2   \n",
       "126                           False  False  False  48000    WAV         2   \n",
       "127                           False  False  False  48000    WAV         2   \n",
       "...                             ...    ...    ...    ...    ...       ...   \n",
       "1877                          False  False  False  48000    WAV         2   \n",
       "1878                          False  False  False  48000    WAV         2   \n",
       "1879                          False  False  False  48000    WAV         2   \n",
       "1880                          False  False  False  48000    WAV         2   \n",
       "1881                          False  False  False  48000    WAV         2   \n",
       "\n",
       "      duration  fold  \n",
       "123       10.0     4  \n",
       "124       10.0     2  \n",
       "125       10.0     2  \n",
       "126       10.0     1  \n",
       "127       10.0     3  \n",
       "...        ...   ...  \n",
       "1877      10.0     2  \n",
       "1878      10.0     3  \n",
       "1879      10.0     0  \n",
       "1880      10.0     4  \n",
       "1881      10.0     4  \n",
       "\n",
       "[980 rows x 10 columns]"
      ]
     },
     "execution_count": 203,
     "metadata": {},
     "output_type": "execute_result"
    }
   ],
   "source": [
    "with INDEX_PATH.open() as f:\n",
    "    index = json.load(f)\n",
    "\n",
    "df_index = pd.DataFrame.from_dict(index,orient='index')\n",
    "df_index"
   ]
  },
  {
   "cell_type": "code",
   "execution_count": 53,
   "id": "63773dad-6434-412c-afd8-97e17510bb74",
   "metadata": {},
   "outputs": [],
   "source": [
    "# pred.keys()"
   ]
  },
  {
   "cell_type": "code",
   "execution_count": 250,
   "id": "f1e35ecb-dcfe-4c09-bb38-763e06745cae",
   "metadata": {},
   "outputs": [
    {
     "name": "stderr",
     "output_type": "stream",
     "text": [
      "100%|████████████████████████████████████████████████████████████████████████████████████████████████████████████████████████████████████████████████████████████████████████████| 980/980 [00:54<00:00, 17.96it/s]\n",
      "100%|████████████████████████████████████████████████████████████████████████████████████████████████████████████████████████████████████████████████████████████████████████████| 980/980 [00:56<00:00, 17.43it/s]\n",
      "100%|████████████████████████████████████████████████████████████████████████████████████████████████████████████████████████████████████████████████████████████████████████████| 980/980 [00:54<00:00, 17.88it/s]\n",
      "100%|████████████████████████████████████████████████████████████████████████████████████████████████████████████████████████████████████████████████████████████████████████████| 980/980 [00:55<00:00, 17.65it/s]\n",
      "100%|████████████████████████████████████████████████████████████████████████████████████████████████████████████████████████████████████████████████████████████████████████████| 980/980 [00:55<00:00, 17.75it/s]\n",
      "100%|████████████████████████████████████████████████████████████████████████████████████████████████████████████████████████████████████████████████████████████████████████████| 980/980 [00:55<00:00, 17.54it/s]\n",
      "100%|████████████████████████████████████████████████████████████████████████████████████████████████████████████████████████████████████████████████████████████████████████████| 980/980 [00:56<00:00, 17.46it/s]\n",
      "100%|████████████████████████████████████████████████████████████████████████████████████████████████████████████████████████████████████████████████████████████████████████████| 980/980 [00:53<00:00, 18.17it/s]\n",
      "100%|████████████████████████████████████████████████████████████████████████████████████████████████████████████████████████████████████████████████████████████████████████████| 980/980 [00:53<00:00, 18.37it/s]\n",
      "100%|████████████████████████████████████████████████████████████████████████████████████████████████████████████████████████████████████████████████████████████████████████████| 980/980 [00:54<00:00, 17.87it/s]\n"
     ]
    }
   ],
   "source": [
    "uid = '1251'\n",
    "\n",
    "\n",
    "fov = 120\n",
    "num_regions = 15\n",
    "fps = 2\n",
    "classes = [-1, 'bus', 'car', 'motorbike', 'truck']\n",
    "tau = 0.5\n",
    "clip_score = pd.DataFrame(columns=classes)\n",
    "\n",
    "invalid_files = []\n",
    "\n",
    "\n",
    "for tau in np.arange(0.0, 0.5, 0.05):  # these ths are not very meaningful for the pointwise model... (it has veeery low conf)\n",
    "    for uid in tqdm(list(pred.keys())):\n",
    "        file_index = index[uid]\n",
    "        file_pred = pred[uid]\n",
    "\n",
    "        nframes = len(file_pred['time'])\n",
    "        nclases = file_pred['pred'].shape[1]\n",
    "\n",
    "        f, c, d = file_pred['pred'].shape\n",
    "#         print(f,c,d)\n",
    "        assert num_regions == d, d\n",
    "        mask_per_class = file_pred['pred'].reshape((c, f, d))\n",
    "    #     print(mask_per_class.shape)\n",
    "\n",
    "        class_score = {}\n",
    "\n",
    "        for c, _ in enumerate(classes):\n",
    "\n",
    "            scores = []\n",
    "            for event in file_index['events']:\n",
    "                if 'time' in event and event['label']==classes[c]:\n",
    "                    if not event['time']:  # for empty gth just check the score against an empty mask\n",
    "                        continue\n",
    "                        box = np.array([0,0,0,0])\n",
    "                        for f in range(mask_per_class.shape[1]):\n",
    "                            score = iou_score(mask_per_class[c,f,:], [box], th=tau, bbox_size=(1, d))\n",
    "                            scores.append(score[0])\n",
    "                    else:\n",
    "                        for f, t in enumerate(np.arange(0, 10, 1/fps)):\n",
    "                            box = np.zeros((1, d))\n",
    "                            if any(np.abs(t-event['time']) < 1/fps):\n",
    "                                idx = np.argmin(np.abs(t-event['time']))\n",
    "                                if 'box' in model:\n",
    "#                                     print('box')\n",
    "                                    event_aximuth_idxs_r = np.round((event['azimuth_left'][idx] + fov / 2) / fov * (num_regions - 1)).astype(int)\n",
    "                                    event_aximuth_idxs_l = np.round((event['azimuth_right'][idx] + fov / 2) / fov * (num_regions - 1)).astype(int)\n",
    "#                                     print(event_aximuth_idxs_l, event_aximuth_idxs_r)\n",
    "                                    try:\n",
    "                                        box[:,event_aximuth_idxs_l:event_aximuth_idxs_r+1] = 1\n",
    "#                                         score = iou_score(mask_per_class[c,f,None], [], box_mask=box, th=tau, bbox_size=(1, d))\n",
    "#                                 #                             print(score[0])\n",
    "#                                         scores.append(score[0])\n",
    "                                    except:\n",
    "                                        invalid_files.append(uid)\n",
    "                                else:\n",
    "                                    event_aximuth_idxs = np.round((event['azimuth'][idx] + fov / 2) / fov * (num_regions - 1)).astype(int)\n",
    "    #                                 print(event_aximuth_idxs)\n",
    "#                                     print('azimuth', event['azimuth'])\n",
    "                                    try: \n",
    "                                        box[:,event_aximuth_idxs] = 1\n",
    "                                        score = iou_score(mask_per_class[c,f,None], [], box_mask=box, th=tau, bbox_size=(1, d))\n",
    "                                #                             print(score[0])\n",
    "                                        scores.append(score[0])\n",
    "                                    except:\n",
    "                                        invalid_files.append(uid)\n",
    "#                                 print('mask', mask_per_class[c,f,None])\n",
    "#                                 print('box', box)\n",
    "#                                         print(event_aximuth_idxs, idx)\n",
    "#                                         print(event['azimuth'])\n",
    "#                                 print(np.max(mask_per_class[c,f,:]))\n",
    "#                                 print(box)\n",
    "#                                 print(mask_per_class[c,f,:])\n",
    "                            \n",
    "                            score = iou_score(mask_per_class[c,f,None], [], box_mask=box, th=tau, bbox_size=(1, d))\n",
    "#     #                             print(score[0])\n",
    "                            scores.append(score[0])\n",
    "                            \n",
    "#                             print(mask_per_class[c,f,None].shape)\n",
    "#                             plt.imshow(box)\n",
    "#                             plt.show()\n",
    "#                             plt.imshow(score[1])\n",
    "#                             plt.show()\n",
    "#                             plt.imshow(score[2])\n",
    "#                             plt.show()\n",
    "#                     print(scores)\n",
    "\n",
    "            class_score[classes[c]] = np.mean(scores) if scores else -1\n",
    "            class_score['tau'] = tau\n",
    "        clip_score = pd.concat([clip_score, pd.DataFrame(class_score, index=[uid])])\n",
    "    \n",
    "#         len(scores), np.mean(scores)"
   ]
  },
  {
   "cell_type": "code",
   "execution_count": 230,
   "id": "66d8b349-2af8-4f37-907e-d2d723daa217",
   "metadata": {},
   "outputs": [
    {
     "data": {
      "text/plain": [
       "{'label': 'car',\n",
       " 'time': [8.0, 8.5, 9.0, 9.5],\n",
       " 'azimuth': [26.625, 25.62046875, 24.38578125, 22.322812499999998],\n",
       " 'azimuth_left': [28.03125,\n",
       "  27.261562500000004,\n",
       "  26.580937499999997,\n",
       "  24.711562499999992],\n",
       " 'azimuth_right': [25.21875,\n",
       "  23.979374999999997,\n",
       "  22.190625000000004,\n",
       "  19.934062499999996],\n",
       " 'visibility': [1.0, 1.0, 1.0, 1.0],\n",
       " 'source': 'video',\n",
       " 'time_filtered': [8.0, 8.5, 9.0, 9.5],\n",
       " 'azimuth_filtered': [26.625, 25.62046875, 24.38578125, 22.322812499999998],\n",
       " 'azimuth_left_filtered': [28.03125,\n",
       "  27.261562500000004,\n",
       "  26.580937499999997,\n",
       "  24.711562499999992],\n",
       " 'azimuth_right_filtered': [25.21875,\n",
       "  23.979374999999997,\n",
       "  22.190625000000004,\n",
       "  19.934062499999996],\n",
       " 'confirmed': True}"
      ]
     },
     "execution_count": 230,
     "metadata": {},
     "output_type": "execute_result"
    }
   ],
   "source": [
    "event"
   ]
  },
  {
   "cell_type": "code",
   "execution_count": 173,
   "id": "0e6238ef-ca06-45ed-957b-e0f8707e35cf",
   "metadata": {},
   "outputs": [
    {
     "data": {
      "text/plain": [
       "[]"
      ]
     },
     "execution_count": 173,
     "metadata": {},
     "output_type": "execute_result"
    }
   ],
   "source": [
    "scores"
   ]
  },
  {
   "cell_type": "code",
   "execution_count": 221,
   "id": "e168dd8e-9448-4964-a8ad-abbdc481a4a1",
   "metadata": {},
   "outputs": [],
   "source": [
    "# clip_score.to_csv('box_model_confirmed_0.csv')"
   ]
  },
  {
   "cell_type": "code",
   "execution_count": 210,
   "id": "a032b0b2-a6fe-455f-841c-23638baf6e58",
   "metadata": {},
   "outputs": [
    {
     "data": {
      "text/plain": [
       "(0.13935134, 0.008419743)"
      ]
     },
     "execution_count": 210,
     "metadata": {},
     "output_type": "execute_result"
    }
   ],
   "source": [
    "file_pred['pred'].max(), file_pred['pred'].mean()"
   ]
  },
  {
   "cell_type": "code",
   "execution_count": 175,
   "id": "1bca3665-b549-4363-8202-63549135657b",
   "metadata": {},
   "outputs": [
    {
     "data": {
      "text/plain": [
       "0.06666666666666667"
      ]
     },
     "execution_count": 175,
     "metadata": {},
     "output_type": "execute_result"
    }
   ],
   "source": [
    "1/15"
   ]
  },
  {
   "cell_type": "code",
   "execution_count": 251,
   "id": "d3eb0bc3-dafc-4741-ba74-a2550f515914",
   "metadata": {},
   "outputs": [
    {
     "data": {
      "text/html": [
       "<div>\n",
       "<style scoped>\n",
       "    .dataframe tbody tr th:only-of-type {\n",
       "        vertical-align: middle;\n",
       "    }\n",
       "\n",
       "    .dataframe tbody tr th {\n",
       "        vertical-align: top;\n",
       "    }\n",
       "\n",
       "    .dataframe thead th {\n",
       "        text-align: right;\n",
       "    }\n",
       "</style>\n",
       "<table border=\"1\" class=\"dataframe\">\n",
       "  <thead>\n",
       "    <tr style=\"text-align: right;\">\n",
       "      <th></th>\n",
       "      <th>-1</th>\n",
       "      <th>bus</th>\n",
       "      <th>car</th>\n",
       "      <th>motorbike</th>\n",
       "      <th>truck</th>\n",
       "      <th>tau</th>\n",
       "    </tr>\n",
       "  </thead>\n",
       "  <tbody>\n",
       "    <tr>\n",
       "      <th>124</th>\n",
       "      <td>NaN</td>\n",
       "      <td>NaN</td>\n",
       "      <td>0.060000</td>\n",
       "      <td>0.060000</td>\n",
       "      <td>NaN</td>\n",
       "      <td>0.00</td>\n",
       "    </tr>\n",
       "    <tr>\n",
       "      <th>125</th>\n",
       "      <td>NaN</td>\n",
       "      <td>NaN</td>\n",
       "      <td>0.022222</td>\n",
       "      <td>NaN</td>\n",
       "      <td>NaN</td>\n",
       "      <td>0.00</td>\n",
       "    </tr>\n",
       "    <tr>\n",
       "      <th>1251</th>\n",
       "      <td>NaN</td>\n",
       "      <td>NaN</td>\n",
       "      <td>0.050000</td>\n",
       "      <td>NaN</td>\n",
       "      <td>NaN</td>\n",
       "      <td>0.00</td>\n",
       "    </tr>\n",
       "    <tr>\n",
       "      <th>1252</th>\n",
       "      <td>NaN</td>\n",
       "      <td>0.093333</td>\n",
       "      <td>0.032778</td>\n",
       "      <td>0.023333</td>\n",
       "      <td>NaN</td>\n",
       "      <td>0.00</td>\n",
       "    </tr>\n",
       "    <tr>\n",
       "      <th>1258</th>\n",
       "      <td>NaN</td>\n",
       "      <td>NaN</td>\n",
       "      <td>0.040000</td>\n",
       "      <td>0.040000</td>\n",
       "      <td>0.083333</td>\n",
       "      <td>0.00</td>\n",
       "    </tr>\n",
       "    <tr>\n",
       "      <th>...</th>\n",
       "      <td>...</td>\n",
       "      <td>...</td>\n",
       "      <td>...</td>\n",
       "      <td>...</td>\n",
       "      <td>...</td>\n",
       "      <td>...</td>\n",
       "    </tr>\n",
       "    <tr>\n",
       "      <th>569</th>\n",
       "      <td>NaN</td>\n",
       "      <td>NaN</td>\n",
       "      <td>NaN</td>\n",
       "      <td>NaN</td>\n",
       "      <td>NaN</td>\n",
       "      <td>0.45</td>\n",
       "    </tr>\n",
       "    <tr>\n",
       "      <th>582</th>\n",
       "      <td>NaN</td>\n",
       "      <td>NaN</td>\n",
       "      <td>0.787500</td>\n",
       "      <td>NaN</td>\n",
       "      <td>NaN</td>\n",
       "      <td>0.45</td>\n",
       "    </tr>\n",
       "    <tr>\n",
       "      <th>589</th>\n",
       "      <td>NaN</td>\n",
       "      <td>NaN</td>\n",
       "      <td>0.650000</td>\n",
       "      <td>NaN</td>\n",
       "      <td>NaN</td>\n",
       "      <td>0.45</td>\n",
       "    </tr>\n",
       "    <tr>\n",
       "      <th>592</th>\n",
       "      <td>NaN</td>\n",
       "      <td>0.600000</td>\n",
       "      <td>0.820000</td>\n",
       "      <td>NaN</td>\n",
       "      <td>NaN</td>\n",
       "      <td>0.45</td>\n",
       "    </tr>\n",
       "    <tr>\n",
       "      <th>597</th>\n",
       "      <td>NaN</td>\n",
       "      <td>NaN</td>\n",
       "      <td>0.700000</td>\n",
       "      <td>NaN</td>\n",
       "      <td>NaN</td>\n",
       "      <td>0.45</td>\n",
       "    </tr>\n",
       "  </tbody>\n",
       "</table>\n",
       "<p>9800 rows × 6 columns</p>\n",
       "</div>"
      ],
      "text/plain": [
       "      -1       bus       car  motorbike     truck   tau\n",
       "124  NaN       NaN  0.060000   0.060000       NaN  0.00\n",
       "125  NaN       NaN  0.022222        NaN       NaN  0.00\n",
       "1251 NaN       NaN  0.050000        NaN       NaN  0.00\n",
       "1252 NaN  0.093333  0.032778   0.023333       NaN  0.00\n",
       "1258 NaN       NaN  0.040000   0.040000  0.083333  0.00\n",
       "...   ..       ...       ...        ...       ...   ...\n",
       "569  NaN       NaN       NaN        NaN       NaN  0.45\n",
       "582  NaN       NaN  0.787500        NaN       NaN  0.45\n",
       "589  NaN       NaN  0.650000        NaN       NaN  0.45\n",
       "592  NaN  0.600000  0.820000        NaN       NaN  0.45\n",
       "597  NaN       NaN  0.700000        NaN       NaN  0.45\n",
       "\n",
       "[9800 rows x 6 columns]"
      ]
     },
     "execution_count": 251,
     "metadata": {},
     "output_type": "execute_result"
    }
   ],
   "source": [
    "clip_score = clip_score.replace(-1, np.nan)\n",
    "clip_score"
   ]
  },
  {
   "cell_type": "code",
   "execution_count": 246,
   "id": "85c5dc8a-5aa9-4c6f-949b-a16096b22f65",
   "metadata": {},
   "outputs": [
    {
     "data": {
      "text/html": [
       "<div>\n",
       "<style scoped>\n",
       "    .dataframe tbody tr th:only-of-type {\n",
       "        vertical-align: middle;\n",
       "    }\n",
       "\n",
       "    .dataframe tbody tr th {\n",
       "        vertical-align: top;\n",
       "    }\n",
       "\n",
       "    .dataframe thead th {\n",
       "        text-align: right;\n",
       "    }\n",
       "</style>\n",
       "<table border=\"1\" class=\"dataframe\">\n",
       "  <thead>\n",
       "    <tr style=\"text-align: right;\">\n",
       "      <th></th>\n",
       "      <th>-1</th>\n",
       "      <th>bus</th>\n",
       "      <th>car</th>\n",
       "      <th>motorbike</th>\n",
       "      <th>truck</th>\n",
       "    </tr>\n",
       "    <tr>\n",
       "      <th>tau</th>\n",
       "      <th></th>\n",
       "      <th></th>\n",
       "      <th></th>\n",
       "      <th></th>\n",
       "      <th></th>\n",
       "    </tr>\n",
       "  </thead>\n",
       "  <tbody>\n",
       "    <tr>\n",
       "      <th>0.0</th>\n",
       "      <td>NaN</td>\n",
       "      <td>0.316772</td>\n",
       "      <td>0.177669</td>\n",
       "      <td>0.133477</td>\n",
       "      <td>0.229179</td>\n",
       "    </tr>\n",
       "    <tr>\n",
       "      <th>0.1</th>\n",
       "      <td>NaN</td>\n",
       "      <td>0.045827</td>\n",
       "      <td>0.026848</td>\n",
       "      <td>0.021880</td>\n",
       "      <td>0.031730</td>\n",
       "    </tr>\n",
       "    <tr>\n",
       "      <th>0.2</th>\n",
       "      <td>NaN</td>\n",
       "      <td>0.025004</td>\n",
       "      <td>0.014242</td>\n",
       "      <td>0.012675</td>\n",
       "      <td>0.019306</td>\n",
       "    </tr>\n",
       "    <tr>\n",
       "      <th>0.3</th>\n",
       "      <td>NaN</td>\n",
       "      <td>0.012456</td>\n",
       "      <td>0.008505</td>\n",
       "      <td>0.009460</td>\n",
       "      <td>0.011213</td>\n",
       "    </tr>\n",
       "    <tr>\n",
       "      <th>0.4</th>\n",
       "      <td>NaN</td>\n",
       "      <td>0.006382</td>\n",
       "      <td>0.005095</td>\n",
       "      <td>0.005238</td>\n",
       "      <td>0.005243</td>\n",
       "    </tr>\n",
       "  </tbody>\n",
       "</table>\n",
       "</div>"
      ],
      "text/plain": [
       "     -1       bus       car  motorbike     truck\n",
       "tau                                             \n",
       "0.0 NaN  0.316772  0.177669   0.133477  0.229179\n",
       "0.1 NaN  0.045827  0.026848   0.021880  0.031730\n",
       "0.2 NaN  0.025004  0.014242   0.012675  0.019306\n",
       "0.3 NaN  0.012456  0.008505   0.009460  0.011213\n",
       "0.4 NaN  0.006382  0.005095   0.005238  0.005243"
      ]
     },
     "execution_count": 246,
     "metadata": {},
     "output_type": "execute_result"
    }
   ],
   "source": [
    "clip_score.groupby('tau').mean()"
   ]
  },
  {
   "cell_type": "code",
   "execution_count": 212,
   "id": "217066ac-134c-4f51-bbfb-baa250005240",
   "metadata": {},
   "outputs": [
    {
     "data": {
      "text/html": [
       "<div>\n",
       "<style scoped>\n",
       "    .dataframe tbody tr th:only-of-type {\n",
       "        vertical-align: middle;\n",
       "    }\n",
       "\n",
       "    .dataframe tbody tr th {\n",
       "        vertical-align: top;\n",
       "    }\n",
       "\n",
       "    .dataframe thead th {\n",
       "        text-align: right;\n",
       "    }\n",
       "</style>\n",
       "<table border=\"1\" class=\"dataframe\">\n",
       "  <thead>\n",
       "    <tr style=\"text-align: right;\">\n",
       "      <th></th>\n",
       "      <th>-1</th>\n",
       "      <th>bus</th>\n",
       "      <th>car</th>\n",
       "      <th>motorbike</th>\n",
       "      <th>truck</th>\n",
       "    </tr>\n",
       "    <tr>\n",
       "      <th>tau</th>\n",
       "      <th></th>\n",
       "      <th></th>\n",
       "      <th></th>\n",
       "      <th></th>\n",
       "      <th></th>\n",
       "    </tr>\n",
       "  </thead>\n",
       "  <tbody>\n",
       "    <tr>\n",
       "      <th>0.000</th>\n",
       "      <td>NaN</td>\n",
       "      <td>0.037315</td>\n",
       "      <td>0.023994</td>\n",
       "      <td>0.020211</td>\n",
       "      <td>0.026831</td>\n",
       "    </tr>\n",
       "    <tr>\n",
       "      <th>0.025</th>\n",
       "      <td>NaN</td>\n",
       "      <td>0.315001</td>\n",
       "      <td>0.455057</td>\n",
       "      <td>0.452609</td>\n",
       "      <td>0.415232</td>\n",
       "    </tr>\n",
       "    <tr>\n",
       "      <th>0.050</th>\n",
       "      <td>NaN</td>\n",
       "      <td>0.354567</td>\n",
       "      <td>0.516992</td>\n",
       "      <td>0.528225</td>\n",
       "      <td>0.481673</td>\n",
       "    </tr>\n",
       "    <tr>\n",
       "      <th>0.075</th>\n",
       "      <td>NaN</td>\n",
       "      <td>0.376446</td>\n",
       "      <td>0.545607</td>\n",
       "      <td>0.564156</td>\n",
       "      <td>0.506839</td>\n",
       "    </tr>\n",
       "    <tr>\n",
       "      <th>0.100</th>\n",
       "      <td>NaN</td>\n",
       "      <td>0.394668</td>\n",
       "      <td>0.566471</td>\n",
       "      <td>0.589576</td>\n",
       "      <td>0.526338</td>\n",
       "    </tr>\n",
       "    <tr>\n",
       "      <th>0.125</th>\n",
       "      <td>NaN</td>\n",
       "      <td>0.403057</td>\n",
       "      <td>0.582541</td>\n",
       "      <td>0.610893</td>\n",
       "      <td>0.538032</td>\n",
       "    </tr>\n",
       "    <tr>\n",
       "      <th>0.150</th>\n",
       "      <td>NaN</td>\n",
       "      <td>0.412569</td>\n",
       "      <td>0.593016</td>\n",
       "      <td>0.626075</td>\n",
       "      <td>0.551211</td>\n",
       "    </tr>\n",
       "    <tr>\n",
       "      <th>0.175</th>\n",
       "      <td>NaN</td>\n",
       "      <td>0.418275</td>\n",
       "      <td>0.600676</td>\n",
       "      <td>0.636642</td>\n",
       "      <td>0.558701</td>\n",
       "    </tr>\n",
       "    <tr>\n",
       "      <th>0.200</th>\n",
       "      <td>NaN</td>\n",
       "      <td>0.422641</td>\n",
       "      <td>0.606841</td>\n",
       "      <td>0.644638</td>\n",
       "      <td>0.563504</td>\n",
       "    </tr>\n",
       "    <tr>\n",
       "      <th>0.225</th>\n",
       "      <td>NaN</td>\n",
       "      <td>0.425035</td>\n",
       "      <td>0.611386</td>\n",
       "      <td>0.652834</td>\n",
       "      <td>0.566042</td>\n",
       "    </tr>\n",
       "    <tr>\n",
       "      <th>0.250</th>\n",
       "      <td>NaN</td>\n",
       "      <td>0.426785</td>\n",
       "      <td>0.614560</td>\n",
       "      <td>0.656865</td>\n",
       "      <td>0.567985</td>\n",
       "    </tr>\n",
       "    <tr>\n",
       "      <th>0.275</th>\n",
       "      <td>NaN</td>\n",
       "      <td>0.429347</td>\n",
       "      <td>0.616917</td>\n",
       "      <td>0.660287</td>\n",
       "      <td>0.570018</td>\n",
       "    </tr>\n",
       "    <tr>\n",
       "      <th>0.300</th>\n",
       "      <td>NaN</td>\n",
       "      <td>0.430890</td>\n",
       "      <td>0.619067</td>\n",
       "      <td>0.664521</td>\n",
       "      <td>0.574616</td>\n",
       "    </tr>\n",
       "    <tr>\n",
       "      <th>0.325</th>\n",
       "      <td>NaN</td>\n",
       "      <td>0.432682</td>\n",
       "      <td>0.621790</td>\n",
       "      <td>0.666719</td>\n",
       "      <td>0.577550</td>\n",
       "    </tr>\n",
       "    <tr>\n",
       "      <th>0.350</th>\n",
       "      <td>NaN</td>\n",
       "      <td>0.434014</td>\n",
       "      <td>0.623589</td>\n",
       "      <td>0.668018</td>\n",
       "      <td>0.582211</td>\n",
       "    </tr>\n",
       "    <tr>\n",
       "      <th>0.375</th>\n",
       "      <td>NaN</td>\n",
       "      <td>0.433524</td>\n",
       "      <td>0.625643</td>\n",
       "      <td>0.670987</td>\n",
       "      <td>0.584766</td>\n",
       "    </tr>\n",
       "    <tr>\n",
       "      <th>0.400</th>\n",
       "      <td>NaN</td>\n",
       "      <td>0.434066</td>\n",
       "      <td>0.627767</td>\n",
       "      <td>0.672298</td>\n",
       "      <td>0.585458</td>\n",
       "    </tr>\n",
       "    <tr>\n",
       "      <th>0.425</th>\n",
       "      <td>NaN</td>\n",
       "      <td>0.433750</td>\n",
       "      <td>0.629437</td>\n",
       "      <td>0.673902</td>\n",
       "      <td>0.589753</td>\n",
       "    </tr>\n",
       "    <tr>\n",
       "      <th>0.450</th>\n",
       "      <td>NaN</td>\n",
       "      <td>0.434660</td>\n",
       "      <td>0.631069</td>\n",
       "      <td>0.675459</td>\n",
       "      <td>0.591293</td>\n",
       "    </tr>\n",
       "    <tr>\n",
       "      <th>0.475</th>\n",
       "      <td>NaN</td>\n",
       "      <td>0.435580</td>\n",
       "      <td>0.632232</td>\n",
       "      <td>0.676727</td>\n",
       "      <td>0.591344</td>\n",
       "    </tr>\n",
       "  </tbody>\n",
       "</table>\n",
       "</div>"
      ],
      "text/plain": [
       "       -1       bus       car  motorbike     truck\n",
       "tau                                               \n",
       "0.000 NaN  0.037315  0.023994   0.020211  0.026831\n",
       "0.025 NaN  0.315001  0.455057   0.452609  0.415232\n",
       "0.050 NaN  0.354567  0.516992   0.528225  0.481673\n",
       "0.075 NaN  0.376446  0.545607   0.564156  0.506839\n",
       "0.100 NaN  0.394668  0.566471   0.589576  0.526338\n",
       "0.125 NaN  0.403057  0.582541   0.610893  0.538032\n",
       "0.150 NaN  0.412569  0.593016   0.626075  0.551211\n",
       "0.175 NaN  0.418275  0.600676   0.636642  0.558701\n",
       "0.200 NaN  0.422641  0.606841   0.644638  0.563504\n",
       "0.225 NaN  0.425035  0.611386   0.652834  0.566042\n",
       "0.250 NaN  0.426785  0.614560   0.656865  0.567985\n",
       "0.275 NaN  0.429347  0.616917   0.660287  0.570018\n",
       "0.300 NaN  0.430890  0.619067   0.664521  0.574616\n",
       "0.325 NaN  0.432682  0.621790   0.666719  0.577550\n",
       "0.350 NaN  0.434014  0.623589   0.668018  0.582211\n",
       "0.375 NaN  0.433524  0.625643   0.670987  0.584766\n",
       "0.400 NaN  0.434066  0.627767   0.672298  0.585458\n",
       "0.425 NaN  0.433750  0.629437   0.673902  0.589753\n",
       "0.450 NaN  0.434660  0.631069   0.675459  0.591293\n",
       "0.475 NaN  0.435580  0.632232   0.676727  0.591344"
      ]
     },
     "execution_count": 212,
     "metadata": {},
     "output_type": "execute_result"
    }
   ],
   "source": [
    "clip_score.groupby('tau').mean()"
   ]
  },
  {
   "cell_type": "code",
   "execution_count": 249,
   "id": "329f1576-2518-4b84-b972-7d2235823670",
   "metadata": {},
   "outputs": [
    {
     "data": {
      "text/plain": [
       "<AxesSubplot:xlabel='tau'>"
      ]
     },
     "execution_count": 249,
     "metadata": {},
     "output_type": "execute_result"
    },
    {
     "data": {
      "text/plain": [
       "<Figure size 2160x720 with 0 Axes>"
      ]
     },
     "metadata": {},
     "output_type": "display_data"
    },
    {
     "data": {
      "image/png": "[encoded data removed]",
      "text/plain": [
       "<Figure size 2160x720 with 1 Axes>"
      ]
     },
     "metadata": {
      "needs_background": "light"
     },
     "output_type": "display_data"
    }
   ],
   "source": [
    "plt.figure(figsize=(30,10))\n",
    "clip_score.groupby('tau').mean().plot.bar(figsize=(30,10))\n",
    "# plt.xlabel(fontsize=12)"
   ]
  },
  {
   "cell_type": "code",
   "execution_count": 224,
   "id": "c247febc-67cb-4eed-bcd9-740640bb7bc5",
   "metadata": {},
   "outputs": [
    {
     "data": {
      "text/plain": [
       "<AxesSubplot:xlabel='tau'>"
      ]
     },
     "execution_count": 224,
     "metadata": {},
     "output_type": "execute_result"
    },
    {
     "data": {
      "text/plain": [
       "<Figure size 2160x720 with 0 Axes>"
      ]
     },
     "metadata": {},
     "output_type": "display_data"
    },
    {
     "data": {
      "image/png": "[encoded data removed]",
      "text/plain": [
       "<Figure size 2160x720 with 1 Axes>"
      ]
     },
     "metadata": {
      "needs_background": "light"
     },
     "output_type": "display_data"
    }
   ],
   "source": [
    "plt.figure(figsize=(30,10))\n",
    "clip_score.groupby('tau').mean().plot.bar(figsize=(30,10))\n",
    "# plt.xlabel(fontsize=12)"
   ]
  },
  {
   "cell_type": "code",
   "execution_count": 220,
   "id": "a0444da9-e3e6-4ddb-b046-14c6edaba84f",
   "metadata": {},
   "outputs": [
    {
     "data": {
      "text/plain": [
       "<AxesSubplot:xlabel='tau'>"
      ]
     },
     "execution_count": 220,
     "metadata": {},
     "output_type": "execute_result"
    },
    {
     "data": {
      "text/plain": [
       "<Figure size 2160x720 with 0 Axes>"
      ]
     },
     "metadata": {},
     "output_type": "display_data"
    },
    {
     "data": {
      "image/png": "[encoded data removed]",
      "text/plain": [
       "<Figure size 2160x720 with 1 Axes>"
      ]
     },
     "metadata": {
      "needs_background": "light"
     },
     "output_type": "display_data"
    }
   ],
   "source": [
    "plt.figure(figsize=(30,10))\n",
    "clip_score.groupby('tau').mean().plot.bar(figsize=(30,10))\n",
    "# plt.xlabel(fontsize=12)"
   ]
  },
  {
   "cell_type": "code",
   "execution_count": 122,
   "id": "0a541d53-dc36-447b-9c85-524cd6f06b18",
   "metadata": {},
   "outputs": [
    {
     "data": {
      "text/plain": [
       "<AxesSubplot:xlabel='tau'>"
      ]
     },
     "execution_count": 122,
     "metadata": {},
     "output_type": "execute_result"
    },
    {
     "data": {
      "image/png": "[encoded data removed]",
      "text/plain": [
       "<Figure size 432x288 with 1 Axes>"
      ]
     },
     "metadata": {
      "needs_background": "light"
     },
     "output_type": "display_data"
    }
   ],
   "source": [
    "clip_score.groupby('tau').mean().plot.bar()"
   ]
  },
  {
   "cell_type": "code",
   "execution_count": 62,
   "id": "236db11b-d6ba-4e2a-8bf1-6b2578e762c8",
   "metadata": {},
   "outputs": [],
   "source": [
    "auc = {}\n",
    "for tau in clip_score.tau.unique():\n",
    "    auc[tau] = clip_score[clip_score.tau==tau].mean()"
   ]
  },
  {
   "cell_type": "code",
   "execution_count": 63,
   "id": "018e1b6a-5c3e-4840-95cf-b29143aa0097",
   "metadata": {},
   "outputs": [
    {
     "data": {
      "text/plain": [
       "{0.1: -1                NaN\n",
       " bus          0.426749\n",
       " car          0.622061\n",
       " motorbike    0.668275\n",
       " truck        0.571502\n",
       " tau          0.100000\n",
       " dtype: float64,\n",
       " 0.30000000000000004: -1                NaN\n",
       " bus          0.436829\n",
       " car          0.637108\n",
       " motorbike    0.690377\n",
       " truck        0.592160\n",
       " tau          0.300000\n",
       " dtype: float64,\n",
       " 0.5000000000000001: -1                NaN\n",
       " bus          0.439882\n",
       " car          0.639424\n",
       " motorbike    0.693952\n",
       " truck        0.595629\n",
       " tau          0.500000\n",
       " dtype: float64}"
      ]
     },
     "execution_count": 63,
     "metadata": {},
     "output_type": "execute_result"
    }
   ],
   "source": [
    "auc  # meaningless th..."
   ]
  }
 ],
 "metadata": {
  "kernelspec": {
   "display_name": "Python 3 (ipykernel)",
   "language": "python",
   "name": "python3"
  },
  "language_info": {
   "codemirror_mode": {
    "name": "ipython",
    "version": 3
   },
   "file_extension": ".py",
   "mimetype": "text/x-python",
   "name": "python",
   "nbconvert_exporter": "python",
   "pygments_lexer": "ipython3",
   "version": "3.8.11"
  }
 },
 "nbformat": 4,
 "nbformat_minor": 5
}
