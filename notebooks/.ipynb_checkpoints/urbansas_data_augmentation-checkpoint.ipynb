{
 "cells": [
  {
   "cell_type": "code",
   "execution_count": null,
   "id": "880c9eb3",
   "metadata": {},
   "outputs": [],
   "source": [
    "\"\"\"\n",
    "Copyright (c) 2022 Magdalena Fuentes, Bea Steers, Julia Wilkins\n",
    "All rights reserved.\n",
    "\n",
    "This source code is licensed under the BSD-3-Clause license found in the\n",
    "LICENSE file in the root directory of this source tree.\n",
    "\"\"\"\n",
    "\n",
    "import numpy as np\n",
    "import pandas as pd\n",
    "import matplotlib.pyplot as plt\n",
    "import librosa\n",
    "import soundfile as sf\n",
    "import os\n",
    "import glob"
   ]
  },
  {
   "cell_type": "code",
   "execution_count": null,
   "id": "6df0ef36",
   "metadata": {},
   "outputs": [],
   "source": [
    "# For every audio file, pitch shift it up and down (we will get x3 the data)\n",
    "# Write out those new audio files\n",
    "# Add a new row to the dataframe of video_annotations and audio_annotations"
   ]
  },
  {
   "cell_type": "code",
   "execution_count": null,
   "id": "c3bd8ff6",
   "metadata": {},
   "outputs": [],
   "source": [
    "audio_annotations_orig = pd.read_csv('dataset/audio_annotations.csv')\n",
    "video_annotations_orig = pd.read_csv('dataset/video_annotations.csv')"
   ]
  },
  {
   "cell_type": "markdown",
   "id": "019aefff",
   "metadata": {},
   "source": [
    "### Augment Audio Annotations"
   ]
  },
  {
   "cell_type": "code",
   "execution_count": null,
   "id": "389a8b35",
   "metadata": {},
   "outputs": [],
   "source": [
    "audio_annotations_orig.head()"
   ]
  },
  {
   "cell_type": "code",
   "execution_count": null,
   "id": "afa9c227",
   "metadata": {},
   "outputs": [],
   "source": [
    "audio_annotations_up = audio_annotations_orig.copy()\n",
    "audio_annotations_down = audio_annotations_orig.copy()"
   ]
  },
  {
   "cell_type": "code",
   "execution_count": null,
   "id": "516dd06b",
   "metadata": {},
   "outputs": [],
   "source": [
    "audio_annotations_orig.head()"
   ]
  },
  {
   "cell_type": "code",
   "execution_count": null,
   "id": "0b2d9a78",
   "metadata": {},
   "outputs": [],
   "source": [
    "up_list = audio_annotations_orig['filename'].astype(str) + '_shift_up'\n",
    "down_list = audio_annotations_orig['filename'].astype(str) + '_shift_down'"
   ]
  },
  {
   "cell_type": "code",
   "execution_count": null,
   "id": "a0378ed8",
   "metadata": {},
   "outputs": [],
   "source": [
    "audio_annotations_up['filename'] = up_list\n",
    "audio_annotations_down['filename'] = down_list"
   ]
  },
  {
   "cell_type": "code",
   "execution_count": null,
   "id": "21cfb82d",
   "metadata": {},
   "outputs": [],
   "source": [
    "concat_audio_annot = pd.concat([audio_annotations_up, audio_annotations_down])"
   ]
  },
  {
   "cell_type": "code",
   "execution_count": null,
   "id": "0c665450",
   "metadata": {},
   "outputs": [],
   "source": [
    "concat_audio_annot = pd.concat([audio_annotations_orig, concat_audio_annot])"
   ]
  },
  {
   "cell_type": "code",
   "execution_count": null,
   "id": "c8b5b7a4",
   "metadata": {},
   "outputs": [],
   "source": [
    "count_reg = 0\n",
    "count_down = 0\n",
    "count_up = 0\n",
    "\n",
    "for i,r in concat_audio_annot.iterrows():\n",
    "    if 'shift_down' in r['filename']:\n",
    "        count_down += 1\n",
    "    elif 'shift_up' in r['filename']:\n",
    "        count_up += 1\n",
    "    else:\n",
    "        count_reg += 1\n",
    "        "
   ]
  },
  {
   "cell_type": "code",
   "execution_count": null,
   "id": "0ac073b3",
   "metadata": {},
   "outputs": [],
   "source": [
    "count_down, count_up, count_reg"
   ]
  },
  {
   "cell_type": "code",
   "execution_count": null,
   "id": "29cf28f5",
   "metadata": {},
   "outputs": [],
   "source": [
    "concat_audio_annot.head()"
   ]
  },
  {
   "cell_type": "code",
   "execution_count": null,
   "id": "6bc85b89",
   "metadata": {},
   "outputs": [],
   "source": [
    "concat_audio_annot.to_csv('audio_annotations_aug.csv', index=False)"
   ]
  },
  {
   "cell_type": "markdown",
   "id": "c6973e60",
   "metadata": {},
   "source": [
    "### Video Annotations Augmentation"
   ]
  },
  {
   "cell_type": "code",
   "execution_count": null,
   "id": "addc5d42",
   "metadata": {},
   "outputs": [],
   "source": [
    "video_annotations_orig.head()"
   ]
  },
  {
   "cell_type": "code",
   "execution_count": null,
   "id": "89daf001",
   "metadata": {},
   "outputs": [],
   "source": [
    "video_annotations_up = video_annotations_orig.copy()\n",
    "video_annotations_down = video_annotations_orig.copy()"
   ]
  },
  {
   "cell_type": "code",
   "execution_count": null,
   "id": "85d808c2",
   "metadata": {},
   "outputs": [],
   "source": [
    "up_list_video = video_annotations_orig['filename'].astype(str) + '_shift_up'\n",
    "down_list_video = video_annotations_orig['filename'].astype(str) + '_shift_down'"
   ]
  },
  {
   "cell_type": "code",
   "execution_count": null,
   "id": "9ab39154",
   "metadata": {},
   "outputs": [],
   "source": [
    "video_annotations_up['filename'] = up_list_video\n",
    "video_annotations_down['filename'] = down_list_video"
   ]
  },
  {
   "cell_type": "code",
   "execution_count": null,
   "id": "3595cfa5",
   "metadata": {},
   "outputs": [],
   "source": [
    "concat_video_annot = pd.concat([video_annotations_up, video_annotations_down, video_annotations_orig])"
   ]
  },
  {
   "cell_type": "code",
   "execution_count": null,
   "id": "f75d0787",
   "metadata": {},
   "outputs": [],
   "source": [
    "count_reg = 0\n",
    "count_down = 0\n",
    "count_up = 0\n",
    "\n",
    "for i,r in concat_video_annot.iterrows():\n",
    "    if 'shift_down' in r['filename']:\n",
    "        count_down += 1\n",
    "    elif 'shift_up' in r['filename']:\n",
    "        count_up += 1\n",
    "    else:\n",
    "        count_reg += 1\n",
    "print(count_down, count_up, count_reg)"
   ]
  },
  {
   "cell_type": "code",
   "execution_count": null,
   "id": "5fab1fb5",
   "metadata": {},
   "outputs": [],
   "source": [
    "concat_video_annot.to_csv('video_annotations_aug.csv', index=False)"
   ]
  },
  {
   "cell_type": "markdown",
   "id": "765e2869",
   "metadata": {},
   "source": [
    "### Augment the Audio"
   ]
  },
  {
   "cell_type": "code",
   "execution_count": null,
   "id": "341a4a54",
   "metadata": {},
   "outputs": [],
   "source": [
    "# Get all files in audio directory\n",
    "import glob\n",
    "audio_files = glob.glob(\"dataset/audio/*.wav\")"
   ]
  },
  {
   "cell_type": "code",
   "execution_count": null,
   "id": "a20b5e2c",
   "metadata": {},
   "outputs": [],
   "source": [
    "audio_files[:2]"
   ]
  },
  {
   "cell_type": "code",
   "execution_count": null,
   "id": "edacc46f",
   "metadata": {},
   "outputs": [],
   "source": [
    "y, sr = librosa.load(audio_files[0])\n",
    "print(sr)"
   ]
  },
  {
   "cell_type": "code",
   "execution_count": null,
   "id": "5173e217",
   "metadata": {},
   "outputs": [],
   "source": [
    "from IPython.display import Audio \n",
    "Audio(y, rate=22050)"
   ]
  },
  {
   "cell_type": "code",
   "execution_count": null,
   "id": "62b4d150",
   "metadata": {},
   "outputs": [],
   "source": [
    "y_up = librosa.effects.pitch_shift(y, sr, n_steps=-6)"
   ]
  },
  {
   "cell_type": "code",
   "execution_count": null,
   "id": "1657a13f",
   "metadata": {},
   "outputs": [],
   "source": [
    "Audio(y_up2, rate=22050)"
   ]
  },
  {
   "cell_type": "code",
   "execution_count": null,
   "id": "44f0370b",
   "metadata": {},
   "outputs": [],
   "source": [
    "audio_files[0][:-4]"
   ]
  },
  {
   "cell_type": "code",
   "execution_count": null,
   "id": "d74d24ed",
   "metadata": {},
   "outputs": [],
   "source": [
    "audio_files[0].split('/')[2][:-4]"
   ]
  },
  {
   "cell_type": "code",
   "execution_count": null,
   "id": "f5544a66",
   "metadata": {},
   "outputs": [],
   "source": [
    "counter = len(audio_files)\n",
    "\n",
    "new_path = 'augmented_urbansas/audio/'\n",
    "for a_filepath in audio_files:\n",
    "    print(counter)\n",
    "    y, sr = librosa.load(a_filepath)\n",
    "    \n",
    "    # Pitch shift them\n",
    "    y_up = librosa.effects.pitch_shift(y, sr, n_steps=6)\n",
    "    y_down = librosa.effects.pitch_shift(y, sr, n_steps=-6)\n",
    "    \n",
    "    \n",
    "    # Write the shifted files out\n",
    "    sf.write(new_path+a_filepath.split('/')[2][:-4] + '_shift_up.wav', y_up, sr) # might want to add to a different folder\n",
    "    sf.write(new_path+a_filepath.split('/')[2][:-4] + '_shift_down.wav', y_down, sr)\n",
    "\n",
    "    counter -= 1\n"
   ]
  }
 ],
 "metadata": {
  "kernelspec": {
   "display_name": "Python 3 (ipykernel)",
   "language": "python",
   "name": "python3"
  },
  "language_info": {
   "codemirror_mode": {
    "name": "ipython",
    "version": 3
   },
   "file_extension": ".py",
   "mimetype": "text/x-python",
   "name": "python",
   "nbconvert_exporter": "python",
   "pygments_lexer": "ipython3",
   "version": "3.9.7"
  }
 },
 "nbformat": 4,
 "nbformat_minor": 5
}