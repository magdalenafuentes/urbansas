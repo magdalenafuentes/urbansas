{
 "cells": [
  {
   "cell_type": "code",
   "execution_count": 1,
   "id": "324ba755-61d7-4c7d-93dd-d91ef9bf69e7",
   "metadata": {},
   "outputs": [],
   "source": [
    "\"\"\"\n",
    "Copyright (c) 2022 Magdalena Fuentes, Bea Steers, Julia Wilkins\n",
    "All rights reserved.\n",
    "\n",
    "This source code is licensed under the BSD-3-Clause license found in the\n",
    "LICENSE file in the root directory of this source tree.\n",
    "\"\"\"\n",
    "\n",
    "%load_ext autoreload\n",
    "%autoreload 2"
   ]
  },
  {
   "cell_type": "code",
   "execution_count": 2,
   "id": "d00241fd-8364-44de-9867-501d84090eb0",
   "metadata": {},
   "outputs": [],
   "source": [
    "import numpy as np\n",
    "import pandas as pd\n",
    "import matplotlib.pyplot as plt\n",
    "from pathlib import Path\n",
    "import json\n",
    "import os\n",
    "import librosa\n",
    "from librosa import display\n",
    "from itertools import cycle\n",
    "import IPython\n",
    "from moviepy.editor import AudioFileClip,VideoFileClip,CompositeVideoClip, VideoClip\n",
    "from moviepy.video.io.bindings import mplfig_to_npimage\n",
    "from matplotlib.patches import Rectangle\n",
    "import glob\n",
    "import h5py\n",
    "import seaborn as sns"
   ]
  },
  {
   "cell_type": "code",
   "execution_count": 6,
   "id": "79c0c902-391c-4299-ab1c-97d53d7216ec",
   "metadata": {},
   "outputs": [],
   "source": [
    "RESULTS_PATH = '../results_stft_fix/'"
   ]
  },
  {
   "cell_type": "code",
   "execution_count": 9,
   "id": "fa9e07b7-cfed-41af-a9a6-53aa49c2cdf0",
   "metadata": {},
   "outputs": [],
   "source": [
    "all_res = pd.DataFrame({})\n",
    "for results_path in glob.glob(os.path.join(RESULTS_PATH, '*.csv')):\n",
    "    res = pd.read_csv(results_path).drop('Unnamed: 0', axis=1)\n",
    "#     assert len(res)/len(res.tau.unique())/len(res.frame_type.unique())/len(res.score.unique()) == 782\n",
    "    assert len(res.model.unique()) == 5\n",
    "    all_res = pd.concat([all_res, res])"
   ]
  },
  {
   "cell_type": "code",
   "execution_count": 10,
   "id": "93705270-bff8-415e-a4c1-8b7134ce12f3",
   "metadata": {},
   "outputs": [
    {
     "data": {
      "text/plain": [
       "1080.0"
      ]
     },
     "execution_count": 10,
     "metadata": {},
     "output_type": "execute_result"
    }
   ],
   "source": [
    "len(res)/len(res.tau.unique())/len(res.frame_type.unique())/len(res.score.unique())"
   ]
  },
  {
   "cell_type": "code",
   "execution_count": 11,
   "id": "4a64c974-ed66-4d96-ac0c-8e1eeecd7362",
   "metadata": {
    "tags": []
   },
   "outputs": [
    {
     "data": {
      "text/html": [
       "<div>\n",
       "<style scoped>\n",
       "    .dataframe tbody tr th:only-of-type {\n",
       "        vertical-align: middle;\n",
       "    }\n",
       "\n",
       "    .dataframe tbody tr th {\n",
       "        vertical-align: top;\n",
       "    }\n",
       "\n",
       "    .dataframe thead th {\n",
       "        text-align: right;\n",
       "    }\n",
       "</style>\n",
       "<table border=\"1\" class=\"dataframe\">\n",
       "  <thead>\n",
       "    <tr style=\"text-align: right;\">\n",
       "      <th></th>\n",
       "      <th>bus</th>\n",
       "      <th>car</th>\n",
       "      <th>motorbike</th>\n",
       "      <th>truck</th>\n",
       "      <th>score</th>\n",
       "      <th>tau</th>\n",
       "      <th>frame_type</th>\n",
       "      <th>uid</th>\n",
       "      <th>model</th>\n",
       "    </tr>\n",
       "  </thead>\n",
       "  <tbody>\n",
       "    <tr>\n",
       "      <th>0</th>\n",
       "      <td>0.00</td>\n",
       "      <td>0.2300</td>\n",
       "      <td>0.0</td>\n",
       "      <td>0.0</td>\n",
       "      <td>iou</td>\n",
       "      <td>0.0</td>\n",
       "      <td>all</td>\n",
       "      <td>100</td>\n",
       "      <td>/Users/mf3734/Documents/repos/localize_sound/p...</td>\n",
       "    </tr>\n",
       "    <tr>\n",
       "      <th>1</th>\n",
       "      <td>0.00</td>\n",
       "      <td>0.2300</td>\n",
       "      <td>0.0</td>\n",
       "      <td>0.0</td>\n",
       "      <td>giou</td>\n",
       "      <td>0.0</td>\n",
       "      <td>all</td>\n",
       "      <td>100</td>\n",
       "      <td>/Users/mf3734/Documents/repos/localize_sound/p...</td>\n",
       "    </tr>\n",
       "    <tr>\n",
       "      <th>2</th>\n",
       "      <td>NaN</td>\n",
       "      <td>0.2875</td>\n",
       "      <td>NaN</td>\n",
       "      <td>NaN</td>\n",
       "      <td>iou</td>\n",
       "      <td>0.0</td>\n",
       "      <td>active</td>\n",
       "      <td>100</td>\n",
       "      <td>/Users/mf3734/Documents/repos/localize_sound/p...</td>\n",
       "    </tr>\n",
       "    <tr>\n",
       "      <th>3</th>\n",
       "      <td>NaN</td>\n",
       "      <td>0.2875</td>\n",
       "      <td>NaN</td>\n",
       "      <td>NaN</td>\n",
       "      <td>giou</td>\n",
       "      <td>0.0</td>\n",
       "      <td>active</td>\n",
       "      <td>100</td>\n",
       "      <td>/Users/mf3734/Documents/repos/localize_sound/p...</td>\n",
       "    </tr>\n",
       "    <tr>\n",
       "      <th>4</th>\n",
       "      <td>0.00</td>\n",
       "      <td>0.0000</td>\n",
       "      <td>0.0</td>\n",
       "      <td>0.0</td>\n",
       "      <td>iou</td>\n",
       "      <td>0.0</td>\n",
       "      <td>inactive</td>\n",
       "      <td>100</td>\n",
       "      <td>/Users/mf3734/Documents/repos/localize_sound/p...</td>\n",
       "    </tr>\n",
       "    <tr>\n",
       "      <th>...</th>\n",
       "      <td>...</td>\n",
       "      <td>...</td>\n",
       "      <td>...</td>\n",
       "      <td>...</td>\n",
       "      <td>...</td>\n",
       "      <td>...</td>\n",
       "      <td>...</td>\n",
       "      <td>...</td>\n",
       "      <td>...</td>\n",
       "    </tr>\n",
       "    <tr>\n",
       "      <th>71275</th>\n",
       "      <td>0.85</td>\n",
       "      <td>0.3000</td>\n",
       "      <td>0.9</td>\n",
       "      <td>0.8</td>\n",
       "      <td>giou</td>\n",
       "      <td>0.5</td>\n",
       "      <td>all</td>\n",
       "      <td>999</td>\n",
       "      <td>/Users/mf3734/Documents/repos/localize_sound/p...</td>\n",
       "    </tr>\n",
       "    <tr>\n",
       "      <th>71276</th>\n",
       "      <td>NaN</td>\n",
       "      <td>0.0000</td>\n",
       "      <td>NaN</td>\n",
       "      <td>NaN</td>\n",
       "      <td>iou</td>\n",
       "      <td>0.5</td>\n",
       "      <td>active</td>\n",
       "      <td>999</td>\n",
       "      <td>/Users/mf3734/Documents/repos/localize_sound/p...</td>\n",
       "    </tr>\n",
       "    <tr>\n",
       "      <th>71277</th>\n",
       "      <td>NaN</td>\n",
       "      <td>0.0000</td>\n",
       "      <td>NaN</td>\n",
       "      <td>NaN</td>\n",
       "      <td>giou</td>\n",
       "      <td>0.5</td>\n",
       "      <td>active</td>\n",
       "      <td>999</td>\n",
       "      <td>/Users/mf3734/Documents/repos/localize_sound/p...</td>\n",
       "    </tr>\n",
       "    <tr>\n",
       "      <th>71278</th>\n",
       "      <td>0.85</td>\n",
       "      <td>1.0000</td>\n",
       "      <td>0.9</td>\n",
       "      <td>0.8</td>\n",
       "      <td>iou</td>\n",
       "      <td>0.5</td>\n",
       "      <td>inactive</td>\n",
       "      <td>999</td>\n",
       "      <td>/Users/mf3734/Documents/repos/localize_sound/p...</td>\n",
       "    </tr>\n",
       "    <tr>\n",
       "      <th>71279</th>\n",
       "      <td>0.85</td>\n",
       "      <td>1.0000</td>\n",
       "      <td>0.9</td>\n",
       "      <td>0.8</td>\n",
       "      <td>giou</td>\n",
       "      <td>0.5</td>\n",
       "      <td>inactive</td>\n",
       "      <td>999</td>\n",
       "      <td>/Users/mf3734/Documents/repos/localize_sound/p...</td>\n",
       "    </tr>\n",
       "  </tbody>\n",
       "</table>\n",
       "<p>142560 rows × 9 columns</p>\n",
       "</div>"
      ],
      "text/plain": [
       "        bus     car  motorbike  truck score  tau frame_type  uid  \\\n",
       "0      0.00  0.2300        0.0    0.0   iou  0.0        all  100   \n",
       "1      0.00  0.2300        0.0    0.0  giou  0.0        all  100   \n",
       "2       NaN  0.2875        NaN    NaN   iou  0.0     active  100   \n",
       "3       NaN  0.2875        NaN    NaN  giou  0.0     active  100   \n",
       "4      0.00  0.0000        0.0    0.0   iou  0.0   inactive  100   \n",
       "...     ...     ...        ...    ...   ...  ...        ...  ...   \n",
       "71275  0.85  0.3000        0.9    0.8  giou  0.5        all  999   \n",
       "71276   NaN  0.0000        NaN    NaN   iou  0.5     active  999   \n",
       "71277   NaN  0.0000        NaN    NaN  giou  0.5     active  999   \n",
       "71278  0.85  1.0000        0.9    0.8   iou  0.5   inactive  999   \n",
       "71279  0.85  1.0000        0.9    0.8  giou  0.5   inactive  999   \n",
       "\n",
       "                                                   model  \n",
       "0      /Users/mf3734/Documents/repos/localize_sound/p...  \n",
       "1      /Users/mf3734/Documents/repos/localize_sound/p...  \n",
       "2      /Users/mf3734/Documents/repos/localize_sound/p...  \n",
       "3      /Users/mf3734/Documents/repos/localize_sound/p...  \n",
       "4      /Users/mf3734/Documents/repos/localize_sound/p...  \n",
       "...                                                  ...  \n",
       "71275  /Users/mf3734/Documents/repos/localize_sound/p...  \n",
       "71276  /Users/mf3734/Documents/repos/localize_sound/p...  \n",
       "71277  /Users/mf3734/Documents/repos/localize_sound/p...  \n",
       "71278  /Users/mf3734/Documents/repos/localize_sound/p...  \n",
       "71279  /Users/mf3734/Documents/repos/localize_sound/p...  \n",
       "\n",
       "[142560 rows x 9 columns]"
      ]
     },
     "execution_count": 11,
     "metadata": {},
     "output_type": "execute_result"
    }
   ],
   "source": [
    "all_res"
   ]
  },
  {
   "cell_type": "code",
   "execution_count": 12,
   "id": "c70d5322-53a0-4166-b383-de1bf1904989",
   "metadata": {},
   "outputs": [
    {
     "data": {
      "text/plain": [
       "array(['/Users/mf3734/Documents/repos/localize_sound/predictions/stft_fix_2/pointwise/train_model-stft_fix,num_regions-5,point_sources-True,train_folds-[0,1,3,4],val_folds-2/Urbansas-f2-epoch185.h5',\n",
       "       '/Users/mf3734/Documents/repos/localize_sound/predictions/stft_fix_2/pointwise/train_model-stft_fix,num_regions-5,point_sources-True,train_folds-[0,1,2,3],val_folds-4/Urbansas-f4-epoch166.h5',\n",
       "       '/Users/mf3734/Documents/repos/localize_sound/predictions/stft_fix_2/pointwise/train_model-stft_fix,num_regions-5,point_sources-True,train_folds-[0,1,2,4],val_folds-3/Urbansas-f3-epoch164.h5',\n",
       "       '/Users/mf3734/Documents/repos/localize_sound/predictions/stft_fix_2/pointwise/train_model-stft_fix,num_regions-5,point_sources-True,train_folds-[0,2,3,4],val_folds-1/Urbansas-f1-epoch157.h5',\n",
       "       '/Users/mf3734/Documents/repos/localize_sound/predictions/stft_fix_2/pointwise/train_model-stft_fix,num_regions-5,point_sources-True,train_folds-[1,2,3,4],val_folds-0/Urbansas-f0-epoch181.h5',\n",
       "       '/Users/mf3734/Documents/repos/localize_sound/predictions/stft_fix_3/pointwise/train_model-stft_fix,num_regions-5,point_sources-True,train_folds-[0,1,3,4],val_folds-2/Urbansas-f2-epoch185.h5',\n",
       "       '/Users/mf3734/Documents/repos/localize_sound/predictions/stft_fix_3/pointwise/train_model-stft_fix,num_regions-5,point_sources-True,train_folds-[0,1,2,3],val_folds-4/Urbansas-f4-epoch166.h5',\n",
       "       '/Users/mf3734/Documents/repos/localize_sound/predictions/stft_fix_3/pointwise/train_model-stft_fix,num_regions-5,point_sources-True,train_folds-[0,1,2,4],val_folds-3/Urbansas-f3-epoch164.h5',\n",
       "       '/Users/mf3734/Documents/repos/localize_sound/predictions/stft_fix_3/pointwise/train_model-stft_fix,num_regions-5,point_sources-True,train_folds-[0,2,3,4],val_folds-1/Urbansas-f1-epoch157.h5',\n",
       "       '/Users/mf3734/Documents/repos/localize_sound/predictions/stft_fix_3/pointwise/train_model-stft_fix,num_regions-5,point_sources-True,train_folds-[1,2,3,4],val_folds-0/Urbansas-f0-epoch181.h5'],\n",
       "      dtype=object)"
      ]
     },
     "execution_count": 12,
     "metadata": {},
     "output_type": "execute_result"
    }
   ],
   "source": [
    "all_res.model.unique()"
   ]
  },
  {
   "cell_type": "code",
   "execution_count": 14,
   "id": "69aaa77f-e6d4-4b83-906b-317d6190c0a3",
   "metadata": {},
   "outputs": [
    {
     "data": {
      "text/html": [
       "<div>\n",
       "<style scoped>\n",
       "    .dataframe tbody tr th:only-of-type {\n",
       "        vertical-align: middle;\n",
       "    }\n",
       "\n",
       "    .dataframe tbody tr th {\n",
       "        vertical-align: top;\n",
       "    }\n",
       "\n",
       "    .dataframe thead th {\n",
       "        text-align: right;\n",
       "    }\n",
       "</style>\n",
       "<table border=\"1\" class=\"dataframe\">\n",
       "  <thead>\n",
       "    <tr style=\"text-align: right;\">\n",
       "      <th></th>\n",
       "      <th>uid</th>\n",
       "      <th>frame_type</th>\n",
       "      <th>tau</th>\n",
       "      <th>class</th>\n",
       "      <th>iou</th>\n",
       "      <th>num_regions</th>\n",
       "    </tr>\n",
       "  </thead>\n",
       "  <tbody>\n",
       "    <tr>\n",
       "      <th>0</th>\n",
       "      <td>12</td>\n",
       "      <td>active</td>\n",
       "      <td>0.00</td>\n",
       "      <td>bus</td>\n",
       "      <td>NaN</td>\n",
       "      <td>5</td>\n",
       "    </tr>\n",
       "    <tr>\n",
       "      <th>9512</th>\n",
       "      <td>44</td>\n",
       "      <td>inactive</td>\n",
       "      <td>0.15</td>\n",
       "      <td>car</td>\n",
       "      <td>NaN</td>\n",
       "      <td>5</td>\n",
       "    </tr>\n",
       "    <tr>\n",
       "      <th>9511</th>\n",
       "      <td>43</td>\n",
       "      <td>inactive</td>\n",
       "      <td>0.15</td>\n",
       "      <td>car</td>\n",
       "      <td>NaN</td>\n",
       "      <td>5</td>\n",
       "    </tr>\n",
       "    <tr>\n",
       "      <th>9510</th>\n",
       "      <td>29</td>\n",
       "      <td>inactive</td>\n",
       "      <td>0.15</td>\n",
       "      <td>car</td>\n",
       "      <td>NaN</td>\n",
       "      <td>5</td>\n",
       "    </tr>\n",
       "    <tr>\n",
       "      <th>9509</th>\n",
       "      <td>26</td>\n",
       "      <td>inactive</td>\n",
       "      <td>0.15</td>\n",
       "      <td>car</td>\n",
       "      <td>NaN</td>\n",
       "      <td>5</td>\n",
       "    </tr>\n",
       "    <tr>\n",
       "      <th>...</th>\n",
       "      <td>...</td>\n",
       "      <td>...</td>\n",
       "      <td>...</td>\n",
       "      <td>...</td>\n",
       "      <td>...</td>\n",
       "      <td>...</td>\n",
       "    </tr>\n",
       "    <tr>\n",
       "      <th>19009</th>\n",
       "      <td>2</td>\n",
       "      <td>all</td>\n",
       "      <td>0.35</td>\n",
       "      <td>motorbike</td>\n",
       "      <td>0.85</td>\n",
       "      <td>5</td>\n",
       "    </tr>\n",
       "    <tr>\n",
       "      <th>19010</th>\n",
       "      <td>7</td>\n",
       "      <td>all</td>\n",
       "      <td>0.35</td>\n",
       "      <td>motorbike</td>\n",
       "      <td>0.75</td>\n",
       "      <td>5</td>\n",
       "    </tr>\n",
       "    <tr>\n",
       "      <th>19011</th>\n",
       "      <td>9</td>\n",
       "      <td>all</td>\n",
       "      <td>0.35</td>\n",
       "      <td>motorbike</td>\n",
       "      <td>0.75</td>\n",
       "      <td>5</td>\n",
       "    </tr>\n",
       "    <tr>\n",
       "      <th>19005</th>\n",
       "      <td>1062</td>\n",
       "      <td>active</td>\n",
       "      <td>0.35</td>\n",
       "      <td>motorbike</td>\n",
       "      <td>NaN</td>\n",
       "      <td>5</td>\n",
       "    </tr>\n",
       "    <tr>\n",
       "      <th>28511</th>\n",
       "      <td>1074</td>\n",
       "      <td>inactive</td>\n",
       "      <td>0.50</td>\n",
       "      <td>truck</td>\n",
       "      <td>1.00</td>\n",
       "      <td>5</td>\n",
       "    </tr>\n",
       "  </tbody>\n",
       "</table>\n",
       "<p>142560 rows × 6 columns</p>\n",
       "</div>"
      ],
      "text/plain": [
       "        uid frame_type   tau      class   iou  num_regions\n",
       "0        12     active  0.00        bus   NaN            5\n",
       "9512     44   inactive  0.15        car   NaN            5\n",
       "9511     43   inactive  0.15        car   NaN            5\n",
       "9510     29   inactive  0.15        car   NaN            5\n",
       "9509     26   inactive  0.15        car   NaN            5\n",
       "...     ...        ...   ...        ...   ...          ...\n",
       "19009     2        all  0.35  motorbike  0.85            5\n",
       "19010     7        all  0.35  motorbike  0.75            5\n",
       "19011     9        all  0.35  motorbike  0.75            5\n",
       "19005  1062     active  0.35  motorbike   NaN            5\n",
       "28511  1074   inactive  0.50      truck  1.00            5\n",
       "\n",
       "[142560 rows x 6 columns]"
      ]
     },
     "execution_count": 14,
     "metadata": {},
     "output_type": "execute_result"
    }
   ],
   "source": [
    "score = 'iou'\n",
    "melted_scores = pd.DataFrame({})\n",
    "for model in res.model.unique():\n",
    "    num_regions = int(model.split('/')[-2].split(',')[1].split('-')[-1])\n",
    "#     in_dur = int(model.split('/')[-2].split(',')[3].split('-')[-1])\n",
    "    _res = res[(res.model==model)&(res.score==score)].copy()\n",
    "    _res = _res.groupby(['score', 'tau', 'frame_type', 'uid']).mean().reset_index()\n",
    "    _res = pd.melt(_res, value_vars=['bus', 'car', 'motorbike', 'truck'], \n",
    "                   id_vars=['uid', 'frame_type', 'tau'], \n",
    "                   var_name='class', value_name=score)\n",
    "    _res['num_regions'] = num_regions\n",
    "#     _res['in_dur'] = in_dur\n",
    "    melted_scores = pd.concat([melted_scores, _res])\n",
    "melted_scores = melted_scores.sort_values('num_regions')\n",
    "melted_scores"
   ]
  },
  {
   "cell_type": "code",
   "execution_count": 16,
   "id": "deb6f033-026e-41cb-b9e4-18a05fd648ab",
   "metadata": {},
   "outputs": [],
   "source": [
    "# melted_scores.in_dur.unique()"
   ]
  },
  {
   "cell_type": "code",
   "execution_count": 149,
   "id": "de9c5429-4a70-4570-bb59-a30539351706",
   "metadata": {},
   "outputs": [
    {
     "data": {
      "image/png": "[encoded data removed]",
      "text/plain": [
       "<Figure size 1338.25x432 with 3 Axes>"
      ]
     },
     "metadata": {
      "needs_background": "light"
     },
     "output_type": "display_data"
    }
   ],
   "source": [
    "ax = sns.catplot(x='tau', y=score, hue='in_dur', data=melted_scores, col='frame_type',\n",
    "                 kind=\"bar\", height=6, aspect=1)"
   ]
  },
  {
   "cell_type": "code",
   "execution_count": 150,
   "id": "135ae67b-7f44-4e87-80e7-f20dd4c908fe",
   "metadata": {},
   "outputs": [
    {
     "data": {
      "image/png": "[encoded data removed]",
      "text/plain": [
       "<Figure size 1338.25x432 with 3 Axes>"
      ]
     },
     "metadata": {
      "needs_background": "light"
     },
     "output_type": "display_data"
    }
   ],
   "source": [
    "ax = sns.catplot(x='tau', y=score, hue='in_dur', data=melted_scores, col='frame_type',\n",
    "                 kind=\"bar\", height=6, aspect=1)"
   ]
  },
  {
   "cell_type": "code",
   "execution_count": 17,
   "id": "b6a2c5ac-fd63-4cac-899c-da3c61f0df7f",
   "metadata": {},
   "outputs": [
    {
     "data": {
      "image/png": "[encoded data removed]",
      "text/plain": [
       "<Figure size 1382.25x432 with 3 Axes>"
      ]
     },
     "metadata": {
      "needs_background": "light"
     },
     "output_type": "display_data"
    }
   ],
   "source": [
    "ax = sns.catplot(x='tau', y=score, hue='class', data=melted_scores, col='frame_type',\n",
    "                 kind=\"bar\", height=6, aspect=1)"
   ]
  },
  {
   "cell_type": "code",
   "execution_count": 81,
   "id": "d1bb4c7c-0b92-4e6a-a9a6-5042c4abd6c9",
   "metadata": {},
   "outputs": [
    {
     "data": {
      "image/png": "[encoded data removed]",
      "text/plain": [
       "<Figure size 1382.25x432 with 3 Axes>"
      ]
     },
     "metadata": {
      "needs_background": "light"
     },
     "output_type": "display_data"
    }
   ],
   "source": [
    "ax = sns.catplot(x='tau', y=score, hue='class', data=melted_scores, col='frame_type',\n",
    "                 kind=\"bar\", height=6, aspect=1)"
   ]
  },
  {
   "cell_type": "code",
   "execution_count": 10,
   "id": "db0e8a83-4ae2-44e5-b288-593cc0d07349",
   "metadata": {},
   "outputs": [
    {
     "data": {
      "image/png": "[encoded data removed]",
      "text/plain": [
       "<Figure size 1382.25x432 with 3 Axes>"
      ]
     },
     "metadata": {
      "needs_background": "light"
     },
     "output_type": "display_data"
    }
   ],
   "source": [
    "ax = sns.catplot(x='num_regions', y=score, hue='class', data=melted_scores, col='frame_type',\n",
    "                 kind=\"bar\", height=6, aspect=1)"
   ]
  },
  {
   "cell_type": "code",
   "execution_count": 82,
   "id": "1d57f955-2e92-4024-af97-cf81fe42b949",
   "metadata": {},
   "outputs": [
    {
     "data": {
      "image/png": "[encoded data removed]",
      "text/plain": [
       "<Figure size 1382.25x432 with 3 Axes>"
      ]
     },
     "metadata": {
      "needs_background": "light"
     },
     "output_type": "display_data"
    }
   ],
   "source": [
    "ax = sns.catplot(x='num_regions', y=score, hue='class', data=melted_scores, col='frame_type',\n",
    "                 kind=\"bar\", height=6, aspect=1)"
   ]
  },
  {
   "cell_type": "code",
   "execution_count": 11,
   "id": "8740c6b6-9269-491d-b568-ecaef179accb",
   "metadata": {},
   "outputs": [
    {
     "data": {
      "text/plain": [
       "'Active frames only'"
      ]
     },
     "execution_count": 11,
     "metadata": {},
     "output_type": "execute_result"
    },
    {
     "data": {
      "image/png": "[encoded data removed]",
      "text/plain": [
       "<Figure size 626.25x360 with 1 Axes>"
      ]
     },
     "metadata": {
      "needs_background": "light"
     },
     "output_type": "display_data"
    }
   ],
   "source": [
    "ax = sns.catplot(x='num_regions', y=score, hue='class', data=melted_scores[melted_scores.frame_type=='active'], kind=\"bar\", height=5, aspect=1.5)\n",
    "'Active frames only'"
   ]
  },
  {
   "cell_type": "code",
   "execution_count": 132,
   "id": "4a02632d-f7c3-4ae1-81db-f218fc7206d7",
   "metadata": {},
   "outputs": [
    {
     "data": {
      "text/plain": [
       "Text(0.5, 1.0, 'Active frames only')"
      ]
     },
     "execution_count": 132,
     "metadata": {},
     "output_type": "execute_result"
    },
    {
     "data": {
      "image/png": "[encoded data removed]",
      "text/plain": [
       "<Figure size 626.25x360 with 1 Axes>"
      ]
     },
     "metadata": {
      "needs_background": "light"
     },
     "output_type": "display_data"
    }
   ],
   "source": [
    "ax = sns.catplot(x='num_regions', y=score, hue='class', data=melted_scores[melted_scores.frame_type=='active'], kind=\"bar\", height=5, aspect=1.5)\n",
    "'Active frames only'"
   ]
  },
  {
   "cell_type": "code",
   "execution_count": 122,
   "id": "86187886-9e01-4590-b786-8b271ccc8d29",
   "metadata": {},
   "outputs": [
    {
     "data": {
      "text/html": [
       "<div>\n",
       "<style scoped>\n",
       "    .dataframe tbody tr th:only-of-type {\n",
       "        vertical-align: middle;\n",
       "    }\n",
       "\n",
       "    .dataframe tbody tr th {\n",
       "        vertical-align: top;\n",
       "    }\n",
       "\n",
       "    .dataframe thead th {\n",
       "        text-align: right;\n",
       "    }\n",
       "</style>\n",
       "<table border=\"1\" class=\"dataframe\">\n",
       "  <thead>\n",
       "    <tr style=\"text-align: right;\">\n",
       "      <th></th>\n",
       "      <th>frame_type</th>\n",
       "      <th>tau</th>\n",
       "      <th>class</th>\n",
       "      <th>num_regions</th>\n",
       "      <th>uid</th>\n",
       "      <th>iou</th>\n",
       "    </tr>\n",
       "  </thead>\n",
       "  <tbody>\n",
       "    <tr>\n",
       "      <th>0</th>\n",
       "      <td>active</td>\n",
       "      <td>0.0</td>\n",
       "      <td>bus</td>\n",
       "      <td>3</td>\n",
       "      <td>505.303867</td>\n",
       "      <td>0.340833</td>\n",
       "    </tr>\n",
       "    <tr>\n",
       "      <th>1</th>\n",
       "      <td>active</td>\n",
       "      <td>0.0</td>\n",
       "      <td>bus</td>\n",
       "      <td>5</td>\n",
       "      <td>503.214286</td>\n",
       "      <td>0.211429</td>\n",
       "    </tr>\n",
       "    <tr>\n",
       "      <th>2</th>\n",
       "      <td>active</td>\n",
       "      <td>0.0</td>\n",
       "      <td>bus</td>\n",
       "      <td>7</td>\n",
       "      <td>498.750000</td>\n",
       "      <td>0.149286</td>\n",
       "    </tr>\n",
       "    <tr>\n",
       "      <th>3</th>\n",
       "      <td>active</td>\n",
       "      <td>0.0</td>\n",
       "      <td>bus</td>\n",
       "      <td>9</td>\n",
       "      <td>563.868750</td>\n",
       "      <td>0.116979</td>\n",
       "    </tr>\n",
       "    <tr>\n",
       "      <th>4</th>\n",
       "      <td>active</td>\n",
       "      <td>0.0</td>\n",
       "      <td>bus</td>\n",
       "      <td>11</td>\n",
       "      <td>522.350877</td>\n",
       "      <td>0.091515</td>\n",
       "    </tr>\n",
       "    <tr>\n",
       "      <th>...</th>\n",
       "      <td>...</td>\n",
       "      <td>...</td>\n",
       "      <td>...</td>\n",
       "      <td>...</td>\n",
       "      <td>...</td>\n",
       "      <td>...</td>\n",
       "    </tr>\n",
       "    <tr>\n",
       "      <th>655</th>\n",
       "      <td>inactive</td>\n",
       "      <td>0.5</td>\n",
       "      <td>truck</td>\n",
       "      <td>3</td>\n",
       "      <td>505.303867</td>\n",
       "      <td>1.000000</td>\n",
       "    </tr>\n",
       "    <tr>\n",
       "      <th>656</th>\n",
       "      <td>inactive</td>\n",
       "      <td>0.5</td>\n",
       "      <td>truck</td>\n",
       "      <td>5</td>\n",
       "      <td>503.214286</td>\n",
       "      <td>1.000000</td>\n",
       "    </tr>\n",
       "    <tr>\n",
       "      <th>657</th>\n",
       "      <td>inactive</td>\n",
       "      <td>0.5</td>\n",
       "      <td>truck</td>\n",
       "      <td>7</td>\n",
       "      <td>498.750000</td>\n",
       "      <td>1.000000</td>\n",
       "    </tr>\n",
       "    <tr>\n",
       "      <th>658</th>\n",
       "      <td>inactive</td>\n",
       "      <td>0.5</td>\n",
       "      <td>truck</td>\n",
       "      <td>9</td>\n",
       "      <td>563.868750</td>\n",
       "      <td>1.000000</td>\n",
       "    </tr>\n",
       "    <tr>\n",
       "      <th>659</th>\n",
       "      <td>inactive</td>\n",
       "      <td>0.5</td>\n",
       "      <td>truck</td>\n",
       "      <td>11</td>\n",
       "      <td>522.350877</td>\n",
       "      <td>1.000000</td>\n",
       "    </tr>\n",
       "  </tbody>\n",
       "</table>\n",
       "<p>660 rows × 6 columns</p>\n",
       "</div>"
      ],
      "text/plain": [
       "    frame_type  tau  class  num_regions         uid       iou\n",
       "0       active  0.0    bus            3  505.303867  0.340833\n",
       "1       active  0.0    bus            5  503.214286  0.211429\n",
       "2       active  0.0    bus            7  498.750000  0.149286\n",
       "3       active  0.0    bus            9  563.868750  0.116979\n",
       "4       active  0.0    bus           11  522.350877  0.091515\n",
       "..         ...  ...    ...          ...         ...       ...\n",
       "655   inactive  0.5  truck            3  505.303867  1.000000\n",
       "656   inactive  0.5  truck            5  503.214286  1.000000\n",
       "657   inactive  0.5  truck            7  498.750000  1.000000\n",
       "658   inactive  0.5  truck            9  563.868750  1.000000\n",
       "659   inactive  0.5  truck           11  522.350877  1.000000\n",
       "\n",
       "[660 rows x 6 columns]"
      ]
     },
     "execution_count": 122,
     "metadata": {},
     "output_type": "execute_result"
    }
   ],
   "source": [
    "melted_scores.groupby(['frame_type', 'tau', 'class', 'num_regions']).mean().reset_index()"
   ]
  },
  {
   "cell_type": "code",
   "execution_count": 86,
   "id": "9067541e-332c-4174-8462-04be3ef98eed",
   "metadata": {},
   "outputs": [
    {
     "data": {
      "text/plain": [
       "782"
      ]
     },
     "execution_count": 86,
     "metadata": {},
     "output_type": "execute_result"
    }
   ],
   "source": [
    "len(set(res['uid']))"
   ]
  },
  {
   "cell_type": "code",
   "execution_count": 88,
   "id": "72c8ef9e-3bbb-409b-8280-e15471e17a2d",
   "metadata": {},
   "outputs": [
    {
     "data": {
      "text/plain": [
       "17204"
      ]
     },
     "execution_count": 88,
     "metadata": {},
     "output_type": "execute_result"
    }
   ],
   "source": [
    "res_active = res[res['frame_type']=='active']\n",
    "len(res_active)"
   ]
  },
  {
   "cell_type": "code",
   "execution_count": 119,
   "id": "ddbd7b8e-ceeb-499d-b2ce-196af93ad460",
   "metadata": {},
   "outputs": [
    {
     "data": {
      "text/html": [
       "<div>\n",
       "<style scoped>\n",
       "    .dataframe tbody tr th:only-of-type {\n",
       "        vertical-align: middle;\n",
       "    }\n",
       "\n",
       "    .dataframe tbody tr th {\n",
       "        vertical-align: top;\n",
       "    }\n",
       "\n",
       "    .dataframe thead th {\n",
       "        text-align: right;\n",
       "    }\n",
       "</style>\n",
       "<table border=\"1\" class=\"dataframe\">\n",
       "  <thead>\n",
       "    <tr style=\"text-align: right;\">\n",
       "      <th></th>\n",
       "      <th>bus</th>\n",
       "      <th>car</th>\n",
       "      <th>motorbike</th>\n",
       "      <th>truck</th>\n",
       "      <th>score</th>\n",
       "      <th>tau</th>\n",
       "      <th>frame_type</th>\n",
       "      <th>uid</th>\n",
       "      <th>model</th>\n",
       "    </tr>\n",
       "  </thead>\n",
       "  <tbody>\n",
       "    <tr>\n",
       "      <th>2</th>\n",
       "      <td>NaN</td>\n",
       "      <td>0.377778</td>\n",
       "      <td>NaN</td>\n",
       "      <td>NaN</td>\n",
       "      <td>iou</td>\n",
       "      <td>0.00</td>\n",
       "      <td>active</td>\n",
       "      <td>1011</td>\n",
       "      <td>predictions/train_model,num_regions-3,batch_si...</td>\n",
       "    </tr>\n",
       "    <tr>\n",
       "      <th>3</th>\n",
       "      <td>NaN</td>\n",
       "      <td>0.377778</td>\n",
       "      <td>NaN</td>\n",
       "      <td>NaN</td>\n",
       "      <td>giou</td>\n",
       "      <td>0.00</td>\n",
       "      <td>active</td>\n",
       "      <td>1011</td>\n",
       "      <td>predictions/train_model,num_regions-3,batch_si...</td>\n",
       "    </tr>\n",
       "    <tr>\n",
       "      <th>8</th>\n",
       "      <td>NaN</td>\n",
       "      <td>0.111111</td>\n",
       "      <td>NaN</td>\n",
       "      <td>NaN</td>\n",
       "      <td>iou</td>\n",
       "      <td>0.05</td>\n",
       "      <td>active</td>\n",
       "      <td>1011</td>\n",
       "      <td>predictions/train_model,num_regions-3,batch_si...</td>\n",
       "    </tr>\n",
       "    <tr>\n",
       "      <th>9</th>\n",
       "      <td>NaN</td>\n",
       "      <td>0.088889</td>\n",
       "      <td>NaN</td>\n",
       "      <td>NaN</td>\n",
       "      <td>giou</td>\n",
       "      <td>0.05</td>\n",
       "      <td>active</td>\n",
       "      <td>1011</td>\n",
       "      <td>predictions/train_model,num_regions-3,batch_si...</td>\n",
       "    </tr>\n",
       "    <tr>\n",
       "      <th>14</th>\n",
       "      <td>NaN</td>\n",
       "      <td>0.088889</td>\n",
       "      <td>NaN</td>\n",
       "      <td>NaN</td>\n",
       "      <td>iou</td>\n",
       "      <td>0.10</td>\n",
       "      <td>active</td>\n",
       "      <td>1011</td>\n",
       "      <td>predictions/train_model,num_regions-3,batch_si...</td>\n",
       "    </tr>\n",
       "    <tr>\n",
       "      <th>15</th>\n",
       "      <td>NaN</td>\n",
       "      <td>0.088889</td>\n",
       "      <td>NaN</td>\n",
       "      <td>NaN</td>\n",
       "      <td>giou</td>\n",
       "      <td>0.10</td>\n",
       "      <td>active</td>\n",
       "      <td>1011</td>\n",
       "      <td>predictions/train_model,num_regions-3,batch_si...</td>\n",
       "    </tr>\n",
       "    <tr>\n",
       "      <th>20</th>\n",
       "      <td>NaN</td>\n",
       "      <td>0.100000</td>\n",
       "      <td>NaN</td>\n",
       "      <td>NaN</td>\n",
       "      <td>iou</td>\n",
       "      <td>0.15</td>\n",
       "      <td>active</td>\n",
       "      <td>1011</td>\n",
       "      <td>predictions/train_model,num_regions-3,batch_si...</td>\n",
       "    </tr>\n",
       "    <tr>\n",
       "      <th>21</th>\n",
       "      <td>NaN</td>\n",
       "      <td>0.100000</td>\n",
       "      <td>NaN</td>\n",
       "      <td>NaN</td>\n",
       "      <td>giou</td>\n",
       "      <td>0.15</td>\n",
       "      <td>active</td>\n",
       "      <td>1011</td>\n",
       "      <td>predictions/train_model,num_regions-3,batch_si...</td>\n",
       "    </tr>\n",
       "    <tr>\n",
       "      <th>26</th>\n",
       "      <td>NaN</td>\n",
       "      <td>0.000000</td>\n",
       "      <td>NaN</td>\n",
       "      <td>NaN</td>\n",
       "      <td>iou</td>\n",
       "      <td>0.20</td>\n",
       "      <td>active</td>\n",
       "      <td>1011</td>\n",
       "      <td>predictions/train_model,num_regions-3,batch_si...</td>\n",
       "    </tr>\n",
       "    <tr>\n",
       "      <th>27</th>\n",
       "      <td>NaN</td>\n",
       "      <td>0.000000</td>\n",
       "      <td>NaN</td>\n",
       "      <td>NaN</td>\n",
       "      <td>giou</td>\n",
       "      <td>0.20</td>\n",
       "      <td>active</td>\n",
       "      <td>1011</td>\n",
       "      <td>predictions/train_model,num_regions-3,batch_si...</td>\n",
       "    </tr>\n",
       "    <tr>\n",
       "      <th>32</th>\n",
       "      <td>NaN</td>\n",
       "      <td>0.000000</td>\n",
       "      <td>NaN</td>\n",
       "      <td>NaN</td>\n",
       "      <td>iou</td>\n",
       "      <td>0.25</td>\n",
       "      <td>active</td>\n",
       "      <td>1011</td>\n",
       "      <td>predictions/train_model,num_regions-3,batch_si...</td>\n",
       "    </tr>\n",
       "    <tr>\n",
       "      <th>33</th>\n",
       "      <td>NaN</td>\n",
       "      <td>0.000000</td>\n",
       "      <td>NaN</td>\n",
       "      <td>NaN</td>\n",
       "      <td>giou</td>\n",
       "      <td>0.25</td>\n",
       "      <td>active</td>\n",
       "      <td>1011</td>\n",
       "      <td>predictions/train_model,num_regions-3,batch_si...</td>\n",
       "    </tr>\n",
       "    <tr>\n",
       "      <th>38</th>\n",
       "      <td>NaN</td>\n",
       "      <td>0.000000</td>\n",
       "      <td>NaN</td>\n",
       "      <td>NaN</td>\n",
       "      <td>iou</td>\n",
       "      <td>0.30</td>\n",
       "      <td>active</td>\n",
       "      <td>1011</td>\n",
       "      <td>predictions/train_model,num_regions-3,batch_si...</td>\n",
       "    </tr>\n",
       "    <tr>\n",
       "      <th>39</th>\n",
       "      <td>NaN</td>\n",
       "      <td>0.000000</td>\n",
       "      <td>NaN</td>\n",
       "      <td>NaN</td>\n",
       "      <td>giou</td>\n",
       "      <td>0.30</td>\n",
       "      <td>active</td>\n",
       "      <td>1011</td>\n",
       "      <td>predictions/train_model,num_regions-3,batch_si...</td>\n",
       "    </tr>\n",
       "    <tr>\n",
       "      <th>44</th>\n",
       "      <td>NaN</td>\n",
       "      <td>0.000000</td>\n",
       "      <td>NaN</td>\n",
       "      <td>NaN</td>\n",
       "      <td>iou</td>\n",
       "      <td>0.35</td>\n",
       "      <td>active</td>\n",
       "      <td>1011</td>\n",
       "      <td>predictions/train_model,num_regions-3,batch_si...</td>\n",
       "    </tr>\n",
       "    <tr>\n",
       "      <th>45</th>\n",
       "      <td>NaN</td>\n",
       "      <td>0.000000</td>\n",
       "      <td>NaN</td>\n",
       "      <td>NaN</td>\n",
       "      <td>giou</td>\n",
       "      <td>0.35</td>\n",
       "      <td>active</td>\n",
       "      <td>1011</td>\n",
       "      <td>predictions/train_model,num_regions-3,batch_si...</td>\n",
       "    </tr>\n",
       "    <tr>\n",
       "      <th>50</th>\n",
       "      <td>NaN</td>\n",
       "      <td>0.000000</td>\n",
       "      <td>NaN</td>\n",
       "      <td>NaN</td>\n",
       "      <td>iou</td>\n",
       "      <td>0.40</td>\n",
       "      <td>active</td>\n",
       "      <td>1011</td>\n",
       "      <td>predictions/train_model,num_regions-3,batch_si...</td>\n",
       "    </tr>\n",
       "    <tr>\n",
       "      <th>51</th>\n",
       "      <td>NaN</td>\n",
       "      <td>0.000000</td>\n",
       "      <td>NaN</td>\n",
       "      <td>NaN</td>\n",
       "      <td>giou</td>\n",
       "      <td>0.40</td>\n",
       "      <td>active</td>\n",
       "      <td>1011</td>\n",
       "      <td>predictions/train_model,num_regions-3,batch_si...</td>\n",
       "    </tr>\n",
       "    <tr>\n",
       "      <th>56</th>\n",
       "      <td>NaN</td>\n",
       "      <td>0.000000</td>\n",
       "      <td>NaN</td>\n",
       "      <td>NaN</td>\n",
       "      <td>iou</td>\n",
       "      <td>0.45</td>\n",
       "      <td>active</td>\n",
       "      <td>1011</td>\n",
       "      <td>predictions/train_model,num_regions-3,batch_si...</td>\n",
       "    </tr>\n",
       "    <tr>\n",
       "      <th>57</th>\n",
       "      <td>NaN</td>\n",
       "      <td>0.000000</td>\n",
       "      <td>NaN</td>\n",
       "      <td>NaN</td>\n",
       "      <td>giou</td>\n",
       "      <td>0.45</td>\n",
       "      <td>active</td>\n",
       "      <td>1011</td>\n",
       "      <td>predictions/train_model,num_regions-3,batch_si...</td>\n",
       "    </tr>\n",
       "    <tr>\n",
       "      <th>62</th>\n",
       "      <td>NaN</td>\n",
       "      <td>0.000000</td>\n",
       "      <td>NaN</td>\n",
       "      <td>NaN</td>\n",
       "      <td>iou</td>\n",
       "      <td>0.50</td>\n",
       "      <td>active</td>\n",
       "      <td>1011</td>\n",
       "      <td>predictions/train_model,num_regions-3,batch_si...</td>\n",
       "    </tr>\n",
       "    <tr>\n",
       "      <th>63</th>\n",
       "      <td>NaN</td>\n",
       "      <td>0.000000</td>\n",
       "      <td>NaN</td>\n",
       "      <td>NaN</td>\n",
       "      <td>giou</td>\n",
       "      <td>0.50</td>\n",
       "      <td>active</td>\n",
       "      <td>1011</td>\n",
       "      <td>predictions/train_model,num_regions-3,batch_si...</td>\n",
       "    </tr>\n",
       "  </tbody>\n",
       "</table>\n",
       "</div>"
      ],
      "text/plain": [
       "    bus       car  motorbike  truck score   tau frame_type   uid  \\\n",
       "2   NaN  0.377778        NaN    NaN   iou  0.00     active  1011   \n",
       "3   NaN  0.377778        NaN    NaN  giou  0.00     active  1011   \n",
       "8   NaN  0.111111        NaN    NaN   iou  0.05     active  1011   \n",
       "9   NaN  0.088889        NaN    NaN  giou  0.05     active  1011   \n",
       "14  NaN  0.088889        NaN    NaN   iou  0.10     active  1011   \n",
       "15  NaN  0.088889        NaN    NaN  giou  0.10     active  1011   \n",
       "20  NaN  0.100000        NaN    NaN   iou  0.15     active  1011   \n",
       "21  NaN  0.100000        NaN    NaN  giou  0.15     active  1011   \n",
       "26  NaN  0.000000        NaN    NaN   iou  0.20     active  1011   \n",
       "27  NaN  0.000000        NaN    NaN  giou  0.20     active  1011   \n",
       "32  NaN  0.000000        NaN    NaN   iou  0.25     active  1011   \n",
       "33  NaN  0.000000        NaN    NaN  giou  0.25     active  1011   \n",
       "38  NaN  0.000000        NaN    NaN   iou  0.30     active  1011   \n",
       "39  NaN  0.000000        NaN    NaN  giou  0.30     active  1011   \n",
       "44  NaN  0.000000        NaN    NaN   iou  0.35     active  1011   \n",
       "45  NaN  0.000000        NaN    NaN  giou  0.35     active  1011   \n",
       "50  NaN  0.000000        NaN    NaN   iou  0.40     active  1011   \n",
       "51  NaN  0.000000        NaN    NaN  giou  0.40     active  1011   \n",
       "56  NaN  0.000000        NaN    NaN   iou  0.45     active  1011   \n",
       "57  NaN  0.000000        NaN    NaN  giou  0.45     active  1011   \n",
       "62  NaN  0.000000        NaN    NaN   iou  0.50     active  1011   \n",
       "63  NaN  0.000000        NaN    NaN  giou  0.50     active  1011   \n",
       "\n",
       "                                                model  \n",
       "2   predictions/train_model,num_regions-3,batch_si...  \n",
       "3   predictions/train_model,num_regions-3,batch_si...  \n",
       "8   predictions/train_model,num_regions-3,batch_si...  \n",
       "9   predictions/train_model,num_regions-3,batch_si...  \n",
       "14  predictions/train_model,num_regions-3,batch_si...  \n",
       "15  predictions/train_model,num_regions-3,batch_si...  \n",
       "20  predictions/train_model,num_regions-3,batch_si...  \n",
       "21  predictions/train_model,num_regions-3,batch_si...  \n",
       "26  predictions/train_model,num_regions-3,batch_si...  \n",
       "27  predictions/train_model,num_regions-3,batch_si...  \n",
       "32  predictions/train_model,num_regions-3,batch_si...  \n",
       "33  predictions/train_model,num_regions-3,batch_si...  \n",
       "38  predictions/train_model,num_regions-3,batch_si...  \n",
       "39  predictions/train_model,num_regions-3,batch_si...  \n",
       "44  predictions/train_model,num_regions-3,batch_si...  \n",
       "45  predictions/train_model,num_regions-3,batch_si...  \n",
       "50  predictions/train_model,num_regions-3,batch_si...  \n",
       "51  predictions/train_model,num_regions-3,batch_si...  \n",
       "56  predictions/train_model,num_regions-3,batch_si...  \n",
       "57  predictions/train_model,num_regions-3,batch_si...  \n",
       "62  predictions/train_model,num_regions-3,batch_si...  \n",
       "63  predictions/train_model,num_regions-3,batch_si...  "
      ]
     },
     "execution_count": 119,
     "metadata": {},
     "output_type": "execute_result"
    }
   ],
   "source": [
    "res_active[res_active['uid']==1011]"
   ]
  },
  {
   "cell_type": "code",
   "execution_count": 135,
   "id": "3936c4bd-f51f-420a-bbda-7f9d2d35bec9",
   "metadata": {},
   "outputs": [
    {
     "name": "stdout",
     "output_type": "stream",
     "text": [
      "1\n",
      "2\n",
      "3\n",
      "1\n",
      "2\n",
      "3\n",
      "1\n",
      "2\n",
      "3\n",
      "1\n"
     ]
    }
   ],
   "source": [
    "uid_list = [1,2, 3]\n",
    "for i in range(10):\n",
    "    uid = uid_list[i % len(uid_list)]; i += 1\n",
    "    print(uid)"
   ]
  },
  {
   "cell_type": "code",
   "execution_count": 21,
   "id": "66243b1d-10dd-4282-9301-ac46cf9fd0e4",
   "metadata": {},
   "outputs": [],
   "source": [
    "pred = {}\n",
    "pred['3'] = {'1':[1], '2':[2]}"
   ]
  },
  {
   "cell_type": "code",
   "execution_count": 27,
   "id": "637a8881-020f-47f4-8792-d25c50220e93",
   "metadata": {},
   "outputs": [
    {
     "data": {
      "text/html": [
       "<div>\n",
       "<style scoped>\n",
       "    .dataframe tbody tr th:only-of-type {\n",
       "        vertical-align: middle;\n",
       "    }\n",
       "\n",
       "    .dataframe tbody tr th {\n",
       "        vertical-align: top;\n",
       "    }\n",
       "\n",
       "    .dataframe thead th {\n",
       "        text-align: right;\n",
       "    }\n",
       "</style>\n",
       "<table border=\"1\" class=\"dataframe\">\n",
       "  <thead>\n",
       "    <tr style=\"text-align: right;\">\n",
       "      <th></th>\n",
       "      <th>1</th>\n",
       "      <th>2</th>\n",
       "    </tr>\n",
       "  </thead>\n",
       "  <tbody>\n",
       "    <tr>\n",
       "      <th>3</th>\n",
       "      <td>[1]</td>\n",
       "      <td>[2]</td>\n",
       "    </tr>\n",
       "  </tbody>\n",
       "</table>\n",
       "</div>"
      ],
      "text/plain": [
       "     1    2\n",
       "3  [1]  [2]"
      ]
     },
     "execution_count": 27,
     "metadata": {},
     "output_type": "execute_result"
    }
   ],
   "source": [
    "df = pd.DataFrame(pred).transpose()\n",
    "df"
   ]
  },
  {
   "cell_type": "code",
   "execution_count": 28,
   "id": "75b05bca-5055-4e0d-9663-c9fa14139abe",
   "metadata": {},
   "outputs": [
    {
     "ename": "KeyError",
     "evalue": "'3'",
     "output_type": "error",
     "traceback": [
      "\u001B[0;31m---------------------------------------------------------------------------\u001B[0m",
      "\u001B[0;31mKeyError\u001B[0m                                  Traceback (most recent call last)",
      "\u001B[0;32m~/miniconda3/envs/urbanss/lib/python3.8/site-packages/pandas/core/indexes/base.py\u001B[0m in \u001B[0;36mget_loc\u001B[0;34m(self, key, method, tolerance)\u001B[0m\n\u001B[1;32m   3360\u001B[0m             \u001B[0;32mtry\u001B[0m\u001B[0;34m:\u001B[0m\u001B[0;34m\u001B[0m\u001B[0;34m\u001B[0m\u001B[0m\n\u001B[0;32m-> 3361\u001B[0;31m                 \u001B[0;32mreturn\u001B[0m \u001B[0mself\u001B[0m\u001B[0;34m.\u001B[0m\u001B[0m_engine\u001B[0m\u001B[0;34m.\u001B[0m\u001B[0mget_loc\u001B[0m\u001B[0;34m(\u001B[0m\u001B[0mcasted_key\u001B[0m\u001B[0;34m)\u001B[0m\u001B[0;34m\u001B[0m\u001B[0;34m\u001B[0m\u001B[0m\n\u001B[0m\u001B[1;32m   3362\u001B[0m             \u001B[0;32mexcept\u001B[0m \u001B[0mKeyError\u001B[0m \u001B[0;32mas\u001B[0m \u001B[0merr\u001B[0m\u001B[0;34m:\u001B[0m\u001B[0;34m\u001B[0m\u001B[0;34m\u001B[0m\u001B[0m\n",
      "\u001B[0;32m~/miniconda3/envs/urbanss/lib/python3.8/site-packages/pandas/_libs/index.pyx\u001B[0m in \u001B[0;36mpandas._libs.index.IndexEngine.get_loc\u001B[0;34m()\u001B[0m\n",
      "\u001B[0;32m~/miniconda3/envs/urbanss/lib/python3.8/site-packages/pandas/_libs/index.pyx\u001B[0m in \u001B[0;36mpandas._libs.index.IndexEngine.get_loc\u001B[0;34m()\u001B[0m\n",
      "\u001B[0;32mpandas/_libs/hashtable_class_helper.pxi\u001B[0m in \u001B[0;36mpandas._libs.hashtable.PyObjectHashTable.get_item\u001B[0;34m()\u001B[0m\n",
      "\u001B[0;32mpandas/_libs/hashtable_class_helper.pxi\u001B[0m in \u001B[0;36mpandas._libs.hashtable.PyObjectHashTable.get_item\u001B[0;34m()\u001B[0m\n",
      "\u001B[0;31mKeyError\u001B[0m: '3'",
      "\nThe above exception was the direct cause of the following exception:\n",
      "\u001B[0;31mKeyError\u001B[0m                                  Traceback (most recent call last)",
      "\u001B[0;32m/var/folders/j_/672m867d1f30v0qyvsddt71058rw_j/T/ipykernel_32921/2602062420.py\u001B[0m in \u001B[0;36m<module>\u001B[0;34m\u001B[0m\n\u001B[0;32m----> 1\u001B[0;31m \u001B[0mdf\u001B[0m\u001B[0;34m[\u001B[0m\u001B[0;34m'3'\u001B[0m\u001B[0;34m]\u001B[0m\u001B[0;34m\u001B[0m\u001B[0;34m\u001B[0m\u001B[0m\n\u001B[0m",
      "\u001B[0;32m~/miniconda3/envs/urbanss/lib/python3.8/site-packages/pandas/core/frame.py\u001B[0m in \u001B[0;36m__getitem__\u001B[0;34m(self, key)\u001B[0m\n\u001B[1;32m   3453\u001B[0m             \u001B[0;32mif\u001B[0m \u001B[0mself\u001B[0m\u001B[0;34m.\u001B[0m\u001B[0mcolumns\u001B[0m\u001B[0;34m.\u001B[0m\u001B[0mnlevels\u001B[0m \u001B[0;34m>\u001B[0m \u001B[0;36m1\u001B[0m\u001B[0;34m:\u001B[0m\u001B[0;34m\u001B[0m\u001B[0;34m\u001B[0m\u001B[0m\n\u001B[1;32m   3454\u001B[0m                 \u001B[0;32mreturn\u001B[0m \u001B[0mself\u001B[0m\u001B[0;34m.\u001B[0m\u001B[0m_getitem_multilevel\u001B[0m\u001B[0;34m(\u001B[0m\u001B[0mkey\u001B[0m\u001B[0;34m)\u001B[0m\u001B[0;34m\u001B[0m\u001B[0;34m\u001B[0m\u001B[0m\n\u001B[0;32m-> 3455\u001B[0;31m             \u001B[0mindexer\u001B[0m \u001B[0;34m=\u001B[0m \u001B[0mself\u001B[0m\u001B[0;34m.\u001B[0m\u001B[0mcolumns\u001B[0m\u001B[0;34m.\u001B[0m\u001B[0mget_loc\u001B[0m\u001B[0;34m(\u001B[0m\u001B[0mkey\u001B[0m\u001B[0;34m)\u001B[0m\u001B[0;34m\u001B[0m\u001B[0;34m\u001B[0m\u001B[0m\n\u001B[0m\u001B[1;32m   3456\u001B[0m             \u001B[0;32mif\u001B[0m \u001B[0mis_integer\u001B[0m\u001B[0;34m(\u001B[0m\u001B[0mindexer\u001B[0m\u001B[0;34m)\u001B[0m\u001B[0;34m:\u001B[0m\u001B[0;34m\u001B[0m\u001B[0;34m\u001B[0m\u001B[0m\n\u001B[1;32m   3457\u001B[0m                 \u001B[0mindexer\u001B[0m \u001B[0;34m=\u001B[0m \u001B[0;34m[\u001B[0m\u001B[0mindexer\u001B[0m\u001B[0;34m]\u001B[0m\u001B[0;34m\u001B[0m\u001B[0;34m\u001B[0m\u001B[0m\n",
      "\u001B[0;32m~/miniconda3/envs/urbanss/lib/python3.8/site-packages/pandas/core/indexes/base.py\u001B[0m in \u001B[0;36mget_loc\u001B[0;34m(self, key, method, tolerance)\u001B[0m\n\u001B[1;32m   3361\u001B[0m                 \u001B[0;32mreturn\u001B[0m \u001B[0mself\u001B[0m\u001B[0;34m.\u001B[0m\u001B[0m_engine\u001B[0m\u001B[0;34m.\u001B[0m\u001B[0mget_loc\u001B[0m\u001B[0;34m(\u001B[0m\u001B[0mcasted_key\u001B[0m\u001B[0;34m)\u001B[0m\u001B[0;34m\u001B[0m\u001B[0;34m\u001B[0m\u001B[0m\n\u001B[1;32m   3362\u001B[0m             \u001B[0;32mexcept\u001B[0m \u001B[0mKeyError\u001B[0m \u001B[0;32mas\u001B[0m \u001B[0merr\u001B[0m\u001B[0;34m:\u001B[0m\u001B[0;34m\u001B[0m\u001B[0;34m\u001B[0m\u001B[0m\n\u001B[0;32m-> 3363\u001B[0;31m                 \u001B[0;32mraise\u001B[0m \u001B[0mKeyError\u001B[0m\u001B[0;34m(\u001B[0m\u001B[0mkey\u001B[0m\u001B[0;34m)\u001B[0m \u001B[0;32mfrom\u001B[0m \u001B[0merr\u001B[0m\u001B[0;34m\u001B[0m\u001B[0;34m\u001B[0m\u001B[0m\n\u001B[0m\u001B[1;32m   3364\u001B[0m \u001B[0;34m\u001B[0m\u001B[0m\n\u001B[1;32m   3365\u001B[0m         \u001B[0;32mif\u001B[0m \u001B[0mis_scalar\u001B[0m\u001B[0;34m(\u001B[0m\u001B[0mkey\u001B[0m\u001B[0;34m)\u001B[0m \u001B[0;32mand\u001B[0m \u001B[0misna\u001B[0m\u001B[0;34m(\u001B[0m\u001B[0mkey\u001B[0m\u001B[0;34m)\u001B[0m \u001B[0;32mand\u001B[0m \u001B[0;32mnot\u001B[0m \u001B[0mself\u001B[0m\u001B[0;34m.\u001B[0m\u001B[0mhasnans\u001B[0m\u001B[0;34m:\u001B[0m\u001B[0;34m\u001B[0m\u001B[0;34m\u001B[0m\u001B[0m\n",
      "\u001B[0;31mKeyError\u001B[0m: '3'"
     ]
    }
   ],
   "source": [
    "df['3']"
   ]
  }
 ],
 "metadata": {
  "kernelspec": {
   "display_name": "Python 3 (ipykernel)",
   "language": "python",
   "name": "python3"
  },
  "language_info": {
   "codemirror_mode": {
    "name": "ipython",
    "version": 3
   },
   "file_extension": ".py",
   "mimetype": "text/x-python",
   "name": "python",
   "nbconvert_exporter": "python",
   "pygments_lexer": "ipython3",
   "version": "3.8.11"
  }
 },
 "nbformat": 4,
 "nbformat_minor": 5
}