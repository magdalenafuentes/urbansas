{
 "cells": [
  {
   "cell_type": "code",
   "execution_count": 1,
   "id": "509e718a-5d2f-4fc5-a3d1-05e8726273ae",
   "metadata": {},
   "outputs": [],
   "source": [
    "\"\"\"\n",
    "Copyright (c) 2022 Magdalena Fuentes, Bea Steers, Luca Bondi(Robert Bosch GmbH), Julia Wilkins\n",
    "All rights reserved.\n",
    "\n",
    "This source code is licensed under the BSD-3-Clause license found in the\n",
    "LICENSE file in the root directory of this source tree.\n",
    "\"\"\"\n",
    "\n",
    "%load_ext autoreload\n",
    "%autoreload 2"
   ]
  },
  {
   "cell_type": "code",
   "execution_count": 8,
   "id": "a3c83756-f666-4f93-a0fb-f1b4d827963c",
   "metadata": {},
   "outputs": [],
   "source": [
    "import numpy as np\n",
    "# from ots_embedding.eval import iou_score, eval_video\n",
    "import matplotlib.pyplot as plt\n",
    "import matplotlib.patches as patches\n",
    "from matplotlib.patches import Rectangle"
   ]
  },
  {
   "cell_type": "code",
   "execution_count": 147,
   "id": "04dd67d1-c544-4052-9d3f-518858ecf17f",
   "metadata": {},
   "outputs": [],
   "source": [
    "def iou_score(pred_mask, gt_bbox_coords=None, gt_box_mask=None, th=0.5, frame_size=(720, 1280), target_size=None):\n",
    "    '''\n",
    "    Function to compute Intersection over Union (IoU) for a given mask an bounding boxes.\n",
    "    Assumes that bboxes are according to original size, and box is in format [x1, y1, x2, y2] \n",
    "    where (x1,y1) is the upper left corner and (x2,y2) the lower right corner.\n",
    "\n",
    "    This is for one *class* currently.\n",
    "\n",
    "    pred_mask: \n",
    "        mask thats the size of the entire image (likelihood), predictions for one frame\n",
    "    gt_bbox_coords:  \n",
    "        list of coordinates from ground truth [x1, y1, x2, y2] \n",
    "    gt_box_mask: \n",
    "        ground truth box mask (if passed directly instead of creating)\n",
    "    th: \n",
    "        threshold tau that determines how to binarize the predicted max (which has likelihood vals)\n",
    "    bbox_size: \n",
    "\n",
    "    target_size: \n",
    "        \n",
    "    '''\n",
    "    if gt_bbox_coords is None and gt_box_mask is None:\n",
    "        raise ValueError(\"Need to pass either box or box mask\")\n",
    "\n",
    "    if len(pred_mask.shape)>2:\n",
    "        pred_mask = pred_mask[...,0]\n",
    "        \n",
    "    # Convert the likelihood thresholds to a binary mask\n",
    "    pred_mask = (pred_mask>th)**1 \n",
    "    \n",
    "    if target_size is None:\n",
    "        target_size = frame_size\n",
    "\n",
    "    if gt_box_mask is None:\n",
    "        gt_box_mask = np.zeros(frame_size)\n",
    "\n",
    "        # Make the overall mask\n",
    "        for _box in gt_bbox_coords:\n",
    "            if _box is None or sum(_box) == 0:\n",
    "                continue\n",
    "            # +1 is to take the \"borders\" into account\n",
    "            # These come as [x1, y1, x2, y2]\n",
    "#             curr_y = (_box[1], _box[3])\n",
    "#             curr_x = (_box[0], _box[2])\n",
    "            # This is because the origin is actually top left corner\n",
    "#             gt_box_mask[curr_y[0]:curr_y[1] + 1, curr_x[0]:curr_x[1] + 1] = 1\n",
    "            gt_box_mask = create_mask(coords=_box, existing_mask=gt_box_mask)\n",
    "        \n",
    "#         gt_box_mask = video_to_size(gt_box_mask, target_size)\n",
    "\n",
    "    # We can adjust resolution if necessary\n",
    "#     pred_mask = video_to_size(pred_mask, target_size)\n",
    "\n",
    "    # Intersection, multiply and sum the 1/0s\n",
    "    overlap =  np.sum(pred_mask * gt_box_mask) \n",
    "\n",
    "    # Union: elementwise subtraction\n",
    "    # Ask about comparison again\n",
    "    union = np.sum((pred_mask - gt_box_mask>0) + gt_box_mask)\n",
    "    iou = overlap / union if union else 1 # This is where 1 is assigned to empty frames\n",
    "    # Empty -> doesn't have GT and didn't predict anything\n",
    "    return (iou, gt_box_mask, pred_mask)"
   ]
  },
  {
   "cell_type": "code",
   "execution_count": 84,
   "id": "5f6bfa47",
   "metadata": {},
   "outputs": [],
   "source": [
    "def giou_score_current(pred_mask, gt_mask, th=0.5, frame_size=(720, 1280), target_size=None):\n",
    "    '''\n",
    "    Computes Generalized Intersection over Union (GIoU) score for a given predicted\n",
    "    mask and ground truth mask. **NOTE** that this metric is currently only designed to\n",
    "    work when there is only one bounding box in a frame.\n",
    "\n",
    "    The score itself is IoU - (C(AUB)/C)\n",
    "\n",
    "    pred_mask: \n",
    "        prediction mask for one frame, (not binary - it will be in likelihood)\n",
    "    gt_mask_coords:  \n",
    "        coordinates of ground truth bbox [x1, y1, x2, y2] \n",
    "    th: \n",
    "        threshold tau that determines how to binarize the predicted max (which has likelihood vals)\n",
    "    frame_size: \n",
    "        size of the input frames (should be the same for pred/gt)\n",
    "   \n",
    "    target_size: \n",
    "        desired output frame size of both masks\n",
    "\n",
    "    Returns\n",
    "    -------\n",
    "    (giou, gt_mask, pred_mask, c_mask): \n",
    "        iou: IoU score computed (float)\n",
    "        gt_mask: reshaped ground truth box mask (2D np.ndarray, shape=target_size)\n",
    "        pred_mask: reshaped prediction mask (2D np.ndarray, shape=target_size)\n",
    "        c_mask: reshaped mask of smallest rectangle enclosing gt_mask and pred_mask.\n",
    "        \n",
    "    '''\n",
    "    # Convert coordinates to mask right away\n",
    "#     gt_mask = create_mask(gt_mask_coords, frame_size=frame_size)\n",
    "\n",
    "    # If both the prediction and the ground truth are empty (all zeros)\n",
    "    if not np.any(pred_mask) and not np.any(gt_mask):\n",
    "        print(\"IoU: \", 1)\n",
    "        print(\"GIoU: \", 1)\n",
    "        return 1, pred_mask, gt_mask, create_mask([0,0,0,0], frame_size=frame_size)\n",
    "\n",
    "    # One is empty the other is not\n",
    "    if (not np.any(pred_mask) and np.any(gt_mask)) or (not np.any(gt_mask) and np.any(pred_mask)):\n",
    "        return 0, pred_mask, gt_mask, create_mask([0,0,0,0], frame_size=frame_size)\n",
    "\n",
    "\n",
    "    # Convert the likelihood thresholds to a binary mask\n",
    "    pred_mask = (pred_mask>th)**1 \n",
    "            \n",
    "#     gt_mask = video_to_size(gt_mask, target_size)\n",
    "#     pred_mask = video_to_size(pred_mask, target_size)\n",
    "\n",
    "    overlap =  np.sum(pred_mask * gt_mask) \n",
    "    union = np.sum((pred_mask - gt_mask>0) + gt_mask)\n",
    "    \n",
    "    # Get enclosing mask\n",
    "    get_c = get_enclosing_mask(gt_mask, pred_mask) # This gets (x,y) top left, width, height\n",
    "    c_mask = create_mask(coords=get_c,\n",
    "                         frame_size=frame_size)\n",
    "    print(c_mask)\n",
    "#     print((pred_mask - gt_mask>0) + gt_mask)\n",
    "    c_diff = np.sum(c_mask - ((pred_mask - gt_mask>0) + gt_mask))\n",
    "    \n",
    "    res = np.abs(c_diff) / np.abs(np.sum(c_mask))\n",
    "    \n",
    "    \n",
    "    iou = overlap / union\n",
    "    giou = iou - res\n",
    "    \n",
    "#     print(\"Norm term: \", res)\n",
    "    print(\"IoU: \", iou)\n",
    "    print(\"GIoU: \", np.round(giou, 3))\n",
    "\n",
    "    return giou, gt_mask, pred_mask, c_mask"
   ]
  },
  {
   "cell_type": "code",
   "execution_count": 3,
   "id": "5d88fbd3",
   "metadata": {},
   "outputs": [],
   "source": [
    "def get_x1y1x2y2(mask):\n",
    "    xy = list(zip(*np.where(mask == 1)))\n",
    "    # If the mask is in 2d array form\n",
    "    min_x = min([a[0] for a in xy])\n",
    "    min_y = min([a[1] for a in xy])\n",
    "    max_x = max([a[0] for a in xy])\n",
    "    max_y = max([a[1] for a in xy])\n",
    "    return (min_x, min_y), (max_x-min_x), (max_y-min_y)"
   ]
  },
  {
   "cell_type": "code",
   "execution_count": 4,
   "id": "3854e6ec",
   "metadata": {},
   "outputs": [],
   "source": [
    "def create_mask(coords, existing_mask=None, frame_size=(720, 1280)):\n",
    "    # x1, y1, x2, y2 (top left corner, bottom right corner)\n",
    "    if existing_mask is None:\n",
    "        mask = np.zeros(frame_size)\n",
    "    else:\n",
    "        mask = existing_mask\n",
    "\n",
    "    if not np.any(coords):\n",
    "        return np.zeros(frame_size)\n",
    "    \n",
    "    curr_x = (coords[0], coords[2])\n",
    "    curr_y = (coords[1], coords[3])\n",
    "    mask[curr_y[0]:curr_y[1]+1, curr_x[0]:curr_x[1]+1] = 1\n",
    "\n",
    "    return mask   "
   ]
  },
  {
   "cell_type": "code",
   "execution_count": 28,
   "id": "a55f1afc",
   "metadata": {},
   "outputs": [],
   "source": [
    "def get_enclosing_mask(mask1, mask2):\n",
    "    # Note this assumes single instance frames :(\n",
    "    # Where these are 2D arrays of the two masks\n",
    "\n",
    "    mask1_min_xy = min(list(zip(*np.where(mask1 == 1))))\n",
    "    mask1_max_xy = max(list(zip(*np.where(mask1 == 1))))\n",
    "\n",
    "    mask2_min_xy = min(list(zip(*np.where(mask2 == 1))))\n",
    "    mask2_max_xy = max(list(zip(*np.where(mask2 == 1))))\n",
    "\n",
    "    min_x = min(mask1_min_xy[1], mask2_min_xy[1])\n",
    "    min_y = min(mask1_min_xy[0], mask2_min_xy[0])\n",
    "\n",
    "    max_x = max(mask1_max_xy[1], mask2_max_xy[1])\n",
    "    max_y = max(mask1_max_xy[0], mask2_max_xy[0])\n",
    "\n",
    "\n",
    "    coords = [min_x, min_y, max_x, max_y]\n",
    "    return coords"
   ]
  },
  {
   "cell_type": "code",
   "execution_count": 6,
   "id": "b1a7ea23",
   "metadata": {},
   "outputs": [],
   "source": [
    "def plot_rects(gt_mask, pred_mask, enclosing_mask=None, frame_size=(10,10)):\n",
    "    \n",
    "    gt_format = get_x1y1x2y2(gt_mask)\n",
    "    pred_format = get_x1y1x2y2(pred_mask)\n",
    "    \n",
    "    fig, ax = plt.subplots()\n",
    "\n",
    "    ax.set_xlim([0, frame_size[1]])\n",
    "    ax.set_ylim([0, frame_size[0]])\n",
    "    #create simple line plot\n",
    "    ax.plot()\n",
    "    \n",
    "\n",
    "    #add rectangle to plot\n",
    "    ax.add_patch(Rectangle(gt_format[0][::-1], gt_format[2], gt_format[1],\n",
    "                           ec=\"gray\", fc=\"blue\", zorder=10, alpha=0.5))\n",
    "\n",
    "    ax.add_patch(Rectangle(pred_format[0][::-1], pred_format[2], pred_format[1],\n",
    "                           ec=\"gray\", fc=\"red\", zorder=5, alpha=0.5))\n",
    "    \n",
    "    if enclosing_mask is not None:\n",
    "        c_format = get_x1y1x2y2(enclosing_mask)\n",
    "        ax.add_patch(Rectangle(c_format[0][::-1], c_format[2], c_format[1],\n",
    "                           ec=\"red\", fc=\"yellow\", zorder=1, alpha=0.3, linewidth=2))\n",
    "\n",
    "    #display plot\n",
    "    plt.gca().invert_yaxis()\n",
    "    plt.show()"
   ]
  },
  {
   "cell_type": "code",
   "execution_count": 75,
   "id": "1010bdca",
   "metadata": {},
   "outputs": [],
   "source": [
    "def plot_rects_1d(gt_mask, pred_mask, enclosing_mask=None, frame_size=(10,10)):\n",
    "    \n",
    "    gt_format = get_x1y1x2y2(gt_mask)\n",
    "    pred_format = get_x1y1x2y2(pred_mask)\n",
    "#     print(gt_format, pred_format)\n",
    "    \n",
    "    fig, ax = plt.subplots()\n",
    "\n",
    "    ax.set_xlim([0, frame_size[1]])\n",
    "    ax.set_ylim([0, frame_size[0]])\n",
    "    #create simple line plot\n",
    "    ax.plot()\n",
    "    \n",
    "    \n",
    "\n",
    "    #add rectangle to plot\n",
    "    ax.add_patch(Rectangle(gt_format[0][::-1], gt_format[2], 1,\n",
    "                           ec=\"gray\", fc=\"blue\", zorder=10, alpha=0.5))\n",
    "\n",
    "    ax.add_patch(Rectangle(pred_format[0][::-1], pred_format[2], 1,\n",
    "                           ec=\"gray\", fc=\"red\", zorder=5, alpha=0.5))\n",
    "    \n",
    "    if enclosing_mask is not None:\n",
    "        c_format = get_x1y1x2y2(enclosing_mask)\n",
    "        ax.add_patch(Rectangle(c_format[0][::-1], c_format[2], 1,\n",
    "                           ec=\"red\", fc=\"yellow\", zorder=1, alpha=0.3, linewidth=5))\n",
    "\n",
    "    #display plot\n",
    "    plt.gca().invert_yaxis()\n",
    "    plt.show()"
   ]
  },
  {
   "cell_type": "code",
   "execution_count": 9,
   "id": "d36cdede",
   "metadata": {},
   "outputs": [],
   "source": [
    "def giou_score(pred_mask, gt_mask, frame_size=(720, 1280)):\n",
    "    \n",
    "    # If both the prediction and the ground truth are empty (all zeros)\n",
    "    if not np.any(pred_mask) and not np.any(gt_mask):\n",
    "        print(\"IoU: \", 1)\n",
    "        print(\"GIoU: \", 1)\n",
    "        return 1, pred_mask, gt_mask, create_mask([0,0,0,0], frame_size)\n",
    "    \n",
    "    overlap =  np.sum(pred_mask * gt_mask) \n",
    "    union = np.sum((pred_mask - gt_mask>0) + gt_mask)\n",
    "    \n",
    "    # Get enclosing mask\n",
    "    get_c = get_enclosing_mask(gt_mask, pred_mask) # This gets (x,y) top left, width, height\n",
    "    c_mask = create_mask(coords=get_c,\n",
    "                         frame_size=frame_size)\n",
    "    c_diff = np.sum(c_mask - ((pred_mask - gt_mask>0) + gt_mask))\n",
    "    res = np.abs(c_diff) / np.abs(np.sum(c_mask))\n",
    "    \n",
    "    iou = overlap / union\n",
    "    giou = iou - res\n",
    "    \n",
    "    print(\"Norm term: \", res)\n",
    "    print(\"IoU: \", iou)\n",
    "    print(\"GIoU: \", giou)\n",
    "\n",
    "    return giou, gt_mask, pred_mask, c_mask"
   ]
  },
  {
   "cell_type": "code",
   "execution_count": 99,
   "id": "0648cfbf",
   "metadata": {},
   "outputs": [
    {
     "data": {
      "image/png": "[encoded data removed]",
      "text/plain": [
       "<Figure size 432x288 with 1 Axes>"
      ]
     },
     "metadata": {
      "needs_background": "light"
     },
     "output_type": "display_data"
    },
    {
     "name": "stdout",
     "output_type": "stream",
     "text": [
      "[[0. 0. 0. 0. 0.]\n",
      " [0. 0. 0. 0. 0.]\n",
      " [0. 1. 1. 1. 0.]\n",
      " [0. 1. 1. 1. 0.]\n",
      " [0. 1. 1. 1. 0.]] [[0 0 0 0 0]\n",
      " [0 0 0 0 0]\n",
      " [0 1 1 1 0]\n",
      " [0 1 1 1 0]\n",
      " [0 1 1 1 0]]\n"
     ]
    }
   ],
   "source": [
    "mask_size = (5,5)\n",
    "mask = np.zeros(mask_size)\n",
    "mask[2:4+1, 1:3+1] = 1\n",
    "box = [1, 2, 3, 4]\n",
    "score, gt_mask, pred_mask = iou_score(mask, [box], frame_size=mask_size)\n",
    "\n",
    "plot_rects(gt_mask, pred_mask, #enclosing_mask=c_mask,\n",
    "           frame_size=(mask_size[0]-1, mask_size[1]-1))\n",
    "print(gt_mask, pred_mask)"
   ]
  },
  {
   "cell_type": "code",
   "execution_count": 57,
   "id": "5cd438b3",
   "metadata": {},
   "outputs": [
    {
     "name": "stdout",
     "output_type": "stream",
     "text": [
      "creating box mask\n",
      "[[0. 0. 0. 0. 0.]\n",
      " [0. 0. 0. 0. 0.]\n",
      " [0. 1. 1. 1. 0.]\n",
      " [0. 1. 1. 1. 0.]\n",
      " [0. 1. 1. 1. 0.]]\n",
      "[[0 0 0 0 0]\n",
      " [0 0 0 0 0]\n",
      " [0 1 1 1 0]\n",
      " [0 1 1 1 0]\n",
      " [0 1 1 1 0]]\n",
      "Norm term:  0.0\n",
      "IoU:  1.0\n",
      "GIoU:  1.0\n"
     ]
    },
    {
     "data": {
      "image/png": "[encoded data removed]",
      "text/plain": [
       "<Figure size 432x288 with 1 Axes>"
      ]
     },
     "metadata": {
      "needs_background": "light"
     },
     "output_type": "display_data"
    }
   ],
   "source": [
    "mask_size = (5,5)\n",
    "mask = np.zeros(mask_size)\n",
    "mask[2:4+1, 1:3+1] = 1\n",
    "box = [1, 2, 3, 4]\n",
    "score, gt_mask, pred_mask = iou_score(mask, [box], frame_size=mask_size)\n",
    "# assert score[0] == 1\n",
    "\n",
    "# Get GIOU\n",
    "get_c = get_enclosing_mask(gt_mask, pred_mask) # This gets (x,y) top left, width, height\n",
    "c_mask = create_mask(coords=get_c,\n",
    "                     frame_size=(5,5))\n",
    "r = giou_score_current(gt_mask, pred_mask, frame_size=(5,5))\n",
    "plot_rects(gt_mask, pred_mask, #enclosing_mask=c_mask,\n",
    "           frame_size=(mask_size[0]-1, mask_size[1]-1))"
   ]
  },
  {
   "cell_type": "code",
   "execution_count": 58,
   "id": "f58cdd80",
   "metadata": {},
   "outputs": [
    {
     "name": "stdout",
     "output_type": "stream",
     "text": [
      "creating box mask\n",
      "[[0. 0. 0. ... 0. 0. 0.]\n",
      " [0. 0. 0. ... 0. 0. 0.]\n",
      " [0. 0. 0. ... 0. 0. 0.]\n",
      " ...\n",
      " [0. 0. 0. ... 0. 0. 0.]\n",
      " [0. 0. 0. ... 0. 0. 0.]\n",
      " [0. 0. 0. ... 0. 0. 0.]]\n",
      "[[0 0 0 ... 0 0 0]\n",
      " [0 0 0 ... 0 0 0]\n",
      " [0 0 0 ... 0 0 0]\n",
      " ...\n",
      " [0 0 0 ... 0 0 0]\n",
      " [0 0 0 ... 0 0 0]\n",
      " [0 0 0 ... 0 0 0]]\n",
      "Norm term:  0.0\n",
      "IoU:  0.2682926829268293\n",
      "GIoU:  0.2682926829268293\n"
     ]
    },
    {
     "data": {
      "image/png": "[encoded data removed]",
      "text/plain": [
       "<Figure size 432x288 with 1 Axes>"
      ]
     },
     "metadata": {
      "needs_background": "light"
     },
     "output_type": "display_data"
    }
   ],
   "source": [
    "mask_size = (50,50)\n",
    "mask = np.zeros(mask_size)\n",
    "mask[20:40+1, 10:30+1] = 1\n",
    "box = [10, 0, 30, 30]\n",
    "score, g, p = iou_score(mask, [box],frame_size=mask_size)\n",
    "\n",
    "r = giou_score_current(g,p, th=0.5, frame_size=(50,50))\n",
    "plot_rects(g,p, enclosing_mask=r[3],\n",
    "           frame_size=(mask_size[0]-1, mask_size[1]-1))"
   ]
  },
  {
   "cell_type": "code",
   "execution_count": 59,
   "id": "56d5a789",
   "metadata": {},
   "outputs": [
    {
     "name": "stdout",
     "output_type": "stream",
     "text": [
      "creating box mask\n",
      "[[0. 0. 0. ... 0. 0. 0.]\n",
      " [0. 0. 0. ... 0. 0. 0.]\n",
      " [0. 0. 0. ... 0. 0. 0.]\n",
      " ...\n",
      " [0. 0. 0. ... 0. 0. 0.]\n",
      " [0. 0. 0. ... 0. 0. 0.]\n",
      " [0. 0. 0. ... 0. 0. 0.]]\n",
      "[[0 0 0 ... 0 0 0]\n",
      " [0 0 0 ... 0 0 0]\n",
      " [0 0 0 ... 0 0 0]\n",
      " ...\n",
      " [0 0 0 ... 0 0 0]\n",
      " [0 0 0 ... 0 0 0]\n",
      " [0 0 0 ... 0 0 0]]\n",
      "Norm term:  0.0\n",
      "IoU:  0.0\n",
      "GIoU:  0.0\n"
     ]
    },
    {
     "data": {
      "image/png": "[encoded data removed]",
      "text/plain": [
       "<Figure size 432x288 with 1 Axes>"
      ]
     },
     "metadata": {
      "needs_background": "light"
     },
     "output_type": "display_data"
    }
   ],
   "source": [
    "mask_size = (50,50)\n",
    "mask = np.zeros(mask_size)\n",
    "mask[20:40+1, 10:30+1] = 1\n",
    "box = [10, 0, 30, 19]\n",
    "score, g, p = iou_score(mask, [box],frame_size=mask_size)\n",
    "\n",
    "r = giou_score_current(g,p, frame_size=(50,50))\n",
    "plot_rects(g,p, enclosing_mask=r[3],\n",
    "           frame_size=(mask_size[0]-1, mask_size[1]-1))"
   ]
  },
  {
   "cell_type": "code",
   "execution_count": 18,
   "id": "602f267a",
   "metadata": {},
   "outputs": [
    {
     "name": "stdout",
     "output_type": "stream",
     "text": [
      "creating box mask\n"
     ]
    },
    {
     "data": {
      "image/png": "[encoded data removed]",
      "text/plain": [
       "<Figure size 432x288 with 1 Axes>"
      ]
     },
     "metadata": {
      "needs_background": "light"
     },
     "output_type": "display_data"
    },
    {
     "name": "stdout",
     "output_type": "stream",
     "text": [
      "[[0 0 0 ... 0 0 0]\n",
      " [0 0 0 ... 0 0 0]\n",
      " [0 0 0 ... 0 0 0]\n",
      " ...\n",
      " [0 0 0 ... 0 0 0]\n",
      " [0 0 0 ... 0 0 0]\n",
      " [0 0 0 ... 0 0 0]]\n"
     ]
    }
   ],
   "source": [
    "mask_size = (50,50)\n",
    "mask = np.zeros(mask_size)\n",
    "mask[20:40+1, 0:30+1] = 1\n",
    "box = [10, 0, 30, 19]\n",
    "score, g, p = iou_score(mask, [box],frame_size=mask_size)\n",
    "\n",
    "r = giou_score_current(g,p, frame_size=(50,50))\n",
    "plot_rects(g,p, enclosing_mask=r[3],\n",
    "           frame_size=(mask_size[0]-1, mask_size[1]-1))\n",
    "print(r[1])"
   ]
  },
  {
   "cell_type": "code",
   "execution_count": 19,
   "id": "78aab407-ae71-4a9f-af98-35e259179e3e",
   "metadata": {},
   "outputs": [
    {
     "name": "stdout",
     "output_type": "stream",
     "text": [
      "creating box mask\n"
     ]
    },
    {
     "data": {
      "image/png": "[encoded data removed]",
      "text/plain": [
       "<Figure size 432x288 with 1 Axes>"
      ]
     },
     "metadata": {
      "needs_background": "light"
     },
     "output_type": "display_data"
    },
    {
     "name": "stdout",
     "output_type": "stream",
     "text": [
      "0.3548387096774194\n"
     ]
    }
   ],
   "source": [
    "mask_size = (50,50)\n",
    "mask = np.zeros(mask_size)\n",
    "mask[20:40+1, 10:30+1] = 1\n",
    "box = [10, 10, 30, 30]\n",
    "score, g, p = iou_score(mask, [box],frame_size=mask_size)\n",
    "\n",
    "r = giou_score_current(g,p, frame_size=(50,50))\n",
    "plot_rects(g,p, enclosing_mask=r[3],\n",
    "           frame_size=(mask_size[0]-1, mask_size[1]-1))\n",
    "print(r[0])"
   ]
  },
  {
   "cell_type": "code",
   "execution_count": 96,
   "id": "858ff714",
   "metadata": {},
   "outputs": [
    {
     "name": "stdout",
     "output_type": "stream",
     "text": [
      "[[0. 0. 0. ... 0. 0. 0.]\n",
      " [0. 0. 0. ... 0. 0. 0.]\n",
      " [0. 0. 0. ... 0. 0. 0.]\n",
      " ...\n",
      " [0. 0. 0. ... 0. 0. 0.]\n",
      " [0. 0. 0. ... 0. 0. 0.]\n",
      " [0. 0. 0. ... 0. 0. 0.]]\n",
      "IoU:  0.29732868757259\n",
      "GIoU:  0.193\n"
     ]
    },
    {
     "data": {
      "image/png": "[encoded data removed]",
      "text/plain": [
       "<Figure size 432x288 with 1 Axes>"
      ]
     },
     "metadata": {
      "needs_background": "light"
     },
     "output_type": "display_data"
    }
   ],
   "source": [
    "mask_size = (50,50)\n",
    "mask = np.zeros(mask_size)\n",
    "mask[20:40+1, 10:30+1] = 1\n",
    "box = [15, 10, 40, 35]\n",
    "score, g, p = iou_score(mask, [box],frame_size=mask_size)\n",
    "\n",
    "r = giou_score_current(g,p, frame_size=(50,50))\n",
    "plot_rects(g,p, enclosing_mask=r[3],\n",
    "           frame_size=(mask_size[0]-1, mask_size[1]-1))"
   ]
  },
  {
   "cell_type": "code",
   "execution_count": 91,
   "id": "5dc667d9",
   "metadata": {},
   "outputs": [
    {
     "name": "stdout",
     "output_type": "stream",
     "text": [
      "[[1. 1. 1. 1. 0.]\n",
      " [1. 1. 1. 1. 0.]\n",
      " [1. 1. 1. 1. 0.]\n",
      " [1. 1. 1. 1. 0.]\n",
      " [1. 1. 1. 1. 0.]]\n",
      "IoU:  0.0\n",
      "GIoU:  -0.25\n"
     ]
    },
    {
     "data": {
      "image/png": "[encoded data removed]",
      "text/plain": [
       "<Figure size 432x288 with 1 Axes>"
      ]
     },
     "metadata": {
      "needs_background": "light"
     },
     "output_type": "display_data"
    }
   ],
   "source": [
    "mask_size = (5, 5)\n",
    "mask = np.zeros(mask_size)\n",
    "mask[3:5, 0:3] = 1\n",
    "box = [1, 0, 3, 2]\n",
    "score, g, p = iou_score(mask, [box],frame_size=mask_size)\n",
    "r = giou_score_current(g,p, frame_size=mask_size)\n",
    "plot_rects(g,p, enclosing_mask=r[3],\n",
    "           frame_size=(mask_size[0]-1, mask_size[1]-1))"
   ]
  },
  {
   "cell_type": "code",
   "execution_count": 18,
   "id": "6e1a5b50",
   "metadata": {},
   "outputs": [
    {
     "name": "stdout",
     "output_type": "stream",
     "text": [
      "creating box mask\n",
      "Norm term:  0.125\n",
      "IoU:  0.0\n",
      "GIoU:  -0.125\n"
     ]
    },
    {
     "data": {
      "image/png": "[encoded data removed]",
      "text/plain": [
       "<Figure size 432x288 with 1 Axes>"
      ]
     },
     "metadata": {
      "needs_background": "light"
     },
     "output_type": "display_data"
    }
   ],
   "source": [
    "mask_size = (5, 5)\n",
    "mask = np.zeros(mask_size)\n",
    "mask[3:5, 1:4] = 1\n",
    "box = [0, 1, 3, 2]\n",
    "score, g, p = iou_score(mask, [box],frame_size=mask_size)\n",
    "r = giou_score(g,p, frame_size=mask_size)\n",
    "plot_rects(g,p, enclosing_mask=r[3],\n",
    "           frame_size=(mask_size[0]-1, mask_size[1]-1))"
   ]
  },
  {
   "cell_type": "code",
   "execution_count": 19,
   "id": "24b644af",
   "metadata": {},
   "outputs": [
    {
     "name": "stdout",
     "output_type": "stream",
     "text": [
      "creating box mask\n",
      "Norm term:  0.25\n",
      "IoU:  0.0\n",
      "GIoU:  -0.25\n"
     ]
    },
    {
     "data": {
      "image/png": "[encoded data removed]",
      "text/plain": [
       "<Figure size 432x288 with 1 Axes>"
      ]
     },
     "metadata": {
      "needs_background": "light"
     },
     "output_type": "display_data"
    }
   ],
   "source": [
    "mask_size = (5, 5)\n",
    "mask = np.zeros(mask_size)\n",
    "mask[3:5, 1:4] = 1\n",
    "box = [0, 1, 2, 2]\n",
    "score, g, p = iou_score(mask, [box],frame_size=mask_size)\n",
    "r = giou_score(g,p, frame_size=mask_size)\n",
    "plot_rects(g,p, enclosing_mask=r[3],\n",
    "           frame_size=(mask_size[0]-1, mask_size[1]-1))"
   ]
  },
  {
   "cell_type": "markdown",
   "id": "693ce3e3",
   "metadata": {},
   "source": [
    "## 1D Tests"
   ]
  },
  {
   "cell_type": "markdown",
   "id": "08e224be",
   "metadata": {},
   "source": [
    "Tests: \n",
    "- Overlapping, same size\n",
    "- One box contains other box\n",
    "- Overlapping, different size\n",
    "- Both boxes empty (empty frames -> 1)\n",
    "- OPEN QUESTIONL: one box empty, other box not empty\n",
    "- Closer vs farther away non-overlapping\n",
    "- Boxes exactly next to eachother"
   ]
  },
  {
   "cell_type": "code",
   "execution_count": 14,
   "id": "bf0ae805",
   "metadata": {},
   "outputs": [
    {
     "name": "stdout",
     "output_type": "stream",
     "text": [
      "creating box mask\n",
      "Norm term:  0.0\n",
      "IoU:  1.0\n",
      "GIoU:  1.0\n",
      "((0, 1), 0, 1) ((0, 1), 0, 1)\n"
     ]
    },
    {
     "data": {
      "image/png": "[encoded data removed]",
      "text/plain": [
       "<Figure size 432x288 with 1 Axes>"
      ]
     },
     "metadata": {
      "needs_background": "light"
     },
     "output_type": "display_data"
    }
   ],
   "source": [
    "# Overlapping perfect score\n",
    "mask_size = (1, 5)\n",
    "mask = np.zeros(mask_size)\n",
    "mask[0:1, 1:3] = 1\n",
    "box = [1, 0, 2, 1]\n",
    "score, g, p = iou_score(mask, [box],frame_size=mask_size)\n",
    "r = giou_score(g,p, frame_size=mask_size)\n",
    "plot_rects_1d(g,p, enclosing_mask=r[3],\n",
    "           frame_size=mask_size)"
   ]
  },
  {
   "cell_type": "code",
   "execution_count": 12,
   "id": "81b1f254",
   "metadata": {},
   "outputs": [
    {
     "data": {
      "text/plain": [
       "(array([[0., 1., 1., 0., 0.]]),\n",
       " array([[0, 1, 1, 0, 0]]),\n",
       " array([[0., 1., 1., 0., 0.]]))"
      ]
     },
     "execution_count": 12,
     "metadata": {},
     "output_type": "execute_result"
    }
   ],
   "source": [
    "g, p, r[3]"
   ]
  },
  {
   "cell_type": "code",
   "execution_count": 85,
   "id": "5f220dff",
   "metadata": {},
   "outputs": [
    {
     "name": "stdout",
     "output_type": "stream",
     "text": [
      "[[1. 1. 1. 1. 1. 1.]]\n",
      "IoU:  0.0\n",
      "GIoU:  -0.333\n"
     ]
    },
    {
     "data": {
      "image/png": "[encoded data removed]",
      "text/plain": [
       "<Figure size 432x288 with 1 Axes>"
      ]
     },
     "metadata": {
      "needs_background": "light"
     },
     "output_type": "display_data"
    }
   ],
   "source": [
    "# Non-overlapping, farther-away\n",
    "mask_size = (1, 6)\n",
    "mask = np.zeros(mask_size)\n",
    "mask[0:2, 4:6] = 1\n",
    "box = [0, 0, 1, 1]\n",
    "score, g, p = iou_score(mask, [box],frame_size=mask_size)\n",
    "r = giou_score_current(g,p, frame_size=mask_size)\n",
    "plot_rects_1d(g,p, enclosing_mask=r[3],\n",
    "           frame_size=mask_size)"
   ]
  },
  {
   "cell_type": "code",
   "execution_count": 86,
   "id": "434f238f",
   "metadata": {},
   "outputs": [
    {
     "name": "stdout",
     "output_type": "stream",
     "text": [
      "[[1. 1. 1. 1. 1. 0.]]\n",
      "IoU:  0.0\n",
      "GIoU:  -0.2\n"
     ]
    },
    {
     "data": {
      "image/png": "[encoded data removed]",
      "text/plain": [
       "<Figure size 432x288 with 1 Axes>"
      ]
     },
     "metadata": {
      "needs_background": "light"
     },
     "output_type": "display_data"
    }
   ],
   "source": [
    "# Non-overlapping, closer\n",
    "mask_size = (1, 6)\n",
    "mask = np.zeros(mask_size)\n",
    "mask[0:2, 3:5] = 1\n",
    "box = [0, 0, 1, 1]\n",
    "score, g, p = iou_score(mask, [box],frame_size=mask_size)\n",
    "r = giou_score_current(g,p, frame_size=mask_size)\n",
    "plot_rects_1d(g,p, enclosing_mask=r[3],\n",
    "           frame_size=mask_size)"
   ]
  },
  {
   "cell_type": "code",
   "execution_count": 146,
   "id": "33128fdd",
   "metadata": {},
   "outputs": [
    {
     "name": "stdout",
     "output_type": "stream",
     "text": [
      "[[1. 1. 1. 1. 0. 0.]]\n"
     ]
    }
   ],
   "source": [
    "gt_bbox_coords = [[0, 0, 1, 1], [0,0,2,2], [0,0,3,3]]\n",
    "frame_size=(1,6)\n",
    "gt_box_mask = np.zeros(frame_size)\n",
    "\n",
    "# Make the overall mask\n",
    "for _box in gt_bbox_coords:\n",
    "    if _box is None or sum(_box) == 0:\n",
    "        continue\n",
    "\n",
    "#     curr_y = (_box[1], _box[3])\n",
    "#     curr_x = (_box[0], _box[2])\n",
    "#     print(curr_y, curr_x)\n",
    "#     # This is because the origin is actually top left corner\n",
    "#     print(gt_box_mask)\n",
    "#     gt_box_mask[curr_y[0]:curr_y[1] + 1, curr_x[0]:curr_x[1] + 1] = 1\n",
    "    gt_box_mask = create_mask(coords=_box, existing_mask=gt_box_mask)\n",
    "print(gt_box_mask)"
   ]
  },
  {
   "cell_type": "code",
   "execution_count": 120,
   "id": "ceba9f15",
   "metadata": {},
   "outputs": [
    {
     "data": {
      "text/plain": [
       "array([[1., 1., 0., 0., 0., 0.]])"
      ]
     },
     "execution_count": 120,
     "metadata": {},
     "output_type": "execute_result"
    }
   ],
   "source": [
    "gt_box_mask"
   ]
  },
  {
   "cell_type": "code",
   "execution_count": 150,
   "id": "925e5084",
   "metadata": {},
   "outputs": [
    {
     "data": {
      "image/png": "[encoded data removed]",
      "text/plain": [
       "<Figure size 432x288 with 1 Axes>"
      ]
     },
     "metadata": {
      "needs_background": "light"
     },
     "output_type": "display_data"
    },
    {
     "name": "stdout",
     "output_type": "stream",
     "text": [
      "[[1. 1. 1. 0. 0. 0.]] [[0 0 0 1 1 0]]\n"
     ]
    }
   ],
   "source": [
    "# Non-overlapping, closer\n",
    "mask_size = (1, 6)\n",
    "mask = np.zeros(mask_size)\n",
    "mask[0:2, 3:5] = 1\n",
    "box = [[0, 0, 1, 1], [0,0,2,1]]\n",
    "score, g, p = iou_score(pred_mask=mask, gt_bbox_coords=box, gt_box_mask=None, frame_size=mask_size)\n",
    "# r = giou_score_current(g,p, frame_size=mask_size)\n",
    "plot_rects_1d(g,p,\n",
    "           frame_size=mask_size)\n",
    "print(g,p)"
   ]
  },
  {
   "cell_type": "code",
   "execution_count": 110,
   "id": "a0b3c717",
   "metadata": {},
   "outputs": [
    {
     "name": "stdout",
     "output_type": "stream",
     "text": [
      "[[1. 1. 0. 0. 0. 0.]] [[0 0 0 1 1 0]]\n"
     ]
    }
   ],
   "source": [
    "print(g, p)"
   ]
  },
  {
   "cell_type": "code",
   "execution_count": 16,
   "id": "4dabbef3",
   "metadata": {},
   "outputs": [
    {
     "name": "stdout",
     "output_type": "stream",
     "text": [
      "creating box mask\n",
      "Norm term:  0.0\n",
      "IoU:  0.0\n",
      "GIoU:  0.0\n",
      "((0, 0), 0, 1) ((0, 2), 0, 1)\n"
     ]
    },
    {
     "data": {
      "image/png": "[encoded data removed]",
      "text/plain": [
       "<Figure size 432x288 with 1 Axes>"
      ]
     },
     "metadata": {
      "needs_background": "light"
     },
     "output_type": "display_data"
    }
   ],
   "source": [
    "# Exactly touching (non-overlapping)\n",
    "# Note: this plot is a bit misleading-look at the masks\n",
    "# But the score is being calculated correctly\n",
    "mask_size = (1, 5)\n",
    "mask = np.zeros(mask_size)\n",
    "mask[0:2, 2:4] = 1\n",
    "box = [0, 0, 1, 1]\n",
    "score, g, p = iou_score(mask, [box],frame_size=mask_size)\n",
    "r = giou_score(g,p, frame_size=mask_size)\n",
    "plot_rects_1d(g,p, enclosing_mask=r[3],\n",
    "           frame_size=mask_size)"
   ]
  },
  {
   "cell_type": "code",
   "execution_count": 148,
   "id": "3ca1c0b6",
   "metadata": {},
   "outputs": [
    {
     "data": {
      "text/plain": [
       "(array([[1., 1., 0., 0., 0.]]),\n",
       " array([[0, 0, 1, 1, 0]]),\n",
       " array([[1., 1., 1., 1., 0.]]))"
      ]
     },
     "execution_count": 148,
     "metadata": {},
     "output_type": "execute_result"
    }
   ],
   "source": [
    "g, p, r[3]"
   ]
  },
  {
   "cell_type": "code",
   "execution_count": 150,
   "id": "a2b33a60",
   "metadata": {},
   "outputs": [
    {
     "data": {
      "text/plain": [
       "<matplotlib.image.AxesImage at 0x7f8e707f0c70>"
      ]
     },
     "execution_count": 150,
     "metadata": {},
     "output_type": "execute_result"
    },
    {
     "data": {
      "image/png": "[encoded data removed]",
      "text/plain": [
       "<Figure size 432x288 with 1 Axes>"
      ]
     },
     "metadata": {
      "needs_background": "light"
     },
     "output_type": "display_data"
    }
   ],
   "source": [
    "plt.imshow(g)"
   ]
  },
  {
   "cell_type": "code",
   "execution_count": 151,
   "id": "f12f4d73",
   "metadata": {},
   "outputs": [
    {
     "data": {
      "text/plain": [
       "<matplotlib.image.AxesImage at 0x7f8e5051a8b0>"
      ]
     },
     "execution_count": 151,
     "metadata": {},
     "output_type": "execute_result"
    },
    {
     "data": {
      "image/png": "[encoded data removed]",
      "text/plain": [
       "<Figure size 432x288 with 1 Axes>"
      ]
     },
     "metadata": {
      "needs_background": "light"
     },
     "output_type": "display_data"
    }
   ],
   "source": [
    "plt.imshow(p)"
   ]
  },
  {
   "cell_type": "code",
   "execution_count": 17,
   "id": "ac9da947",
   "metadata": {},
   "outputs": [
    {
     "name": "stdout",
     "output_type": "stream",
     "text": [
      "creating box mask\n",
      "Norm term:  0.0\n",
      "IoU:  0.3333333333333333\n",
      "GIoU:  0.3333333333333333\n",
      "((0, 0), 0, 1) ((0, 1), 0, 1)\n"
     ]
    },
    {
     "data": {
      "image/png": "[encoded data removed]",
      "text/plain": [
       "<Figure size 432x288 with 1 Axes>"
      ]
     },
     "metadata": {
      "needs_background": "light"
     },
     "output_type": "display_data"
    }
   ],
   "source": [
    "# Small overlap (visually this is also strange, but scores make sense)\n",
    "mask_size = (1, 5)\n",
    "mask = np.zeros(mask_size)\n",
    "mask[0:2, 1:3] = 1\n",
    "box = [0, 0, 1, 1]\n",
    "score, g, p = iou_score(mask, [box],frame_size=mask_size)\n",
    "r = giou_score(g,p, frame_size=mask_size)\n",
    "plot_rects_1d(g,p, enclosing_mask=r[3],\n",
    "           frame_size=mask_size)"
   ]
  },
  {
   "cell_type": "code",
   "execution_count": 156,
   "id": "b6ab9848",
   "metadata": {},
   "outputs": [
    {
     "data": {
      "text/plain": [
       "(array([[1., 1., 0., 0., 0.]]),\n",
       " array([[0, 1, 1, 0, 0]]),\n",
       " array([[1., 1., 1., 0., 0.]]))"
      ]
     },
     "execution_count": 156,
     "metadata": {},
     "output_type": "execute_result"
    }
   ],
   "source": [
    "g, p, r[3]"
   ]
  },
  {
   "cell_type": "code",
   "execution_count": 157,
   "id": "9cb69cec",
   "metadata": {},
   "outputs": [
    {
     "data": {
      "text/plain": [
       "<matplotlib.image.AxesImage at 0x7f8e62071280>"
      ]
     },
     "execution_count": 157,
     "metadata": {},
     "output_type": "execute_result"
    },
    {
     "data": {
      "image/png": "[encoded data removed]",
      "text/plain": [
       "<Figure size 432x288 with 1 Axes>"
      ]
     },
     "metadata": {
      "needs_background": "light"
     },
     "output_type": "display_data"
    }
   ],
   "source": [
    "plt.imshow(g)"
   ]
  },
  {
   "cell_type": "code",
   "execution_count": 158,
   "id": "aaa375bf",
   "metadata": {},
   "outputs": [
    {
     "data": {
      "text/plain": [
       "<matplotlib.image.AxesImage at 0x7f8e380a8d90>"
      ]
     },
     "execution_count": 158,
     "metadata": {},
     "output_type": "execute_result"
    },
    {
     "data": {
      "image/png": "[encoded data removed]",
      "text/plain": [
       "<Figure size 432x288 with 1 Axes>"
      ]
     },
     "metadata": {
      "needs_background": "light"
     },
     "output_type": "display_data"
    }
   ],
   "source": [
    "plt.imshow(p)"
   ]
  },
  {
   "cell_type": "code",
   "execution_count": 18,
   "id": "5cc0848c",
   "metadata": {},
   "outputs": [
    {
     "name": "stdout",
     "output_type": "stream",
     "text": [
      "creating box mask\n",
      "Norm term:  0.0\n",
      "IoU:  0.6666666666666666\n",
      "GIoU:  0.6666666666666666\n",
      "((0, 0), 0, 2) ((0, 1), 0, 1)\n"
     ]
    },
    {
     "data": {
      "image/png": "[encoded data removed]",
      "text/plain": [
       "<Figure size 432x288 with 1 Axes>"
      ]
     },
     "metadata": {
      "needs_background": "light"
     },
     "output_type": "display_data"
    }
   ],
   "source": [
    "# Overlapping, different sizes\n",
    "mask_size = (1, 5)\n",
    "mask = np.zeros(mask_size)\n",
    "mask[0:1, 1:3] = 1\n",
    "box = [0, 0, 2, 1]\n",
    "score, g, p = iou_score(mask, [box],frame_size=mask_size)\n",
    "r = giou_score(g,p, frame_size=mask_size)\n",
    "plot_rects_1d(g,p, enclosing_mask=r[3],\n",
    "           frame_size=mask_size)"
   ]
  },
  {
   "cell_type": "code",
   "execution_count": 19,
   "id": "ec223479",
   "metadata": {},
   "outputs": [
    {
     "name": "stdout",
     "output_type": "stream",
     "text": [
      "creating box mask\n",
      "Norm term:  0.0\n",
      "IoU:  0.4\n",
      "GIoU:  0.4\n",
      "((0, 0), 0, 4) ((0, 1), 0, 1)\n"
     ]
    },
    {
     "data": {
      "image/png": "[encoded data removed]",
      "text/plain": [
       "<Figure size 432x288 with 1 Axes>"
      ]
     },
     "metadata": {
      "needs_background": "light"
     },
     "output_type": "display_data"
    }
   ],
   "source": [
    "# One box contains the other box\n",
    "mask_size = (1, 5)\n",
    "mask = np.zeros(mask_size)\n",
    "mask[0:1, 1:3] = 1\n",
    "box = [0, 0, 4, 1]\n",
    "score, g, p = iou_score(mask, [box],frame_size=mask_size)\n",
    "r = giou_score(g,p, frame_size=mask_size)\n",
    "plot_rects_1d(g,p, enclosing_mask=r[3],\n",
    "           frame_size=mask_size)"
   ]
  },
  {
   "cell_type": "code",
   "execution_count": 20,
   "id": "c8921f78",
   "metadata": {},
   "outputs": [
    {
     "name": "stdout",
     "output_type": "stream",
     "text": [
      "creating box mask\n",
      "Norm term:  0.0\n",
      "IoU:  0.4\n",
      "GIoU:  0.4\n",
      "((0, 0), 0, 1) ((0, 0), 0, 4)\n"
     ]
    },
    {
     "data": {
      "image/png": "[encoded data removed]",
      "text/plain": [
       "<Figure size 432x288 with 1 Axes>"
      ]
     },
     "metadata": {
      "needs_background": "light"
     },
     "output_type": "display_data"
    }
   ],
   "source": [
    "# One box contains other box, flipped\n",
    "mask_size = (1, 5)\n",
    "mask = np.zeros(mask_size)\n",
    "mask[0:1, 0:5] = 1\n",
    "box = [0, 0, 1, 1]\n",
    "score, g, p = iou_score(mask, [box],frame_size=mask_size)\n",
    "r = giou_score(g,p, frame_size=mask_size)\n",
    "plot_rects_1d(g,p, enclosing_mask=r[3],\n",
    "           frame_size=mask_size)"
   ]
  },
  {
   "cell_type": "code",
   "execution_count": 238,
   "id": "0a0cbaf1",
   "metadata": {},
   "outputs": [
    {
     "name": "stdout",
     "output_type": "stream",
     "text": [
      "creating box mask\n",
      "IoU:  1\n",
      "GIoU:  1\n"
     ]
    }
   ],
   "source": [
    "# Either box is none\n",
    "mask_size = (1, 5)\n",
    "mask = np.zeros(mask_size)\n",
    "box = [0, 0, 0, 0]\n",
    "score, g, p = iou_score(mask, [box],frame_size=mask_size)\n",
    "r = giou_score(g,p, frame_size=mask_size)"
   ]
  },
  {
   "cell_type": "code",
   "execution_count": 239,
   "id": "98d12d15",
   "metadata": {},
   "outputs": [
    {
     "data": {
      "text/plain": [
       "array([[0, 0, 0, 0, 0]])"
      ]
     },
     "execution_count": 239,
     "metadata": {},
     "output_type": "execute_result"
    }
   ],
   "source": [
    "p"
   ]
  },
  {
   "cell_type": "code",
   "execution_count": 240,
   "id": "0ca02b8d",
   "metadata": {},
   "outputs": [
    {
     "data": {
      "text/plain": [
       "array([[0, 0, 0, 0, 0]])"
      ]
     },
     "execution_count": 240,
     "metadata": {},
     "output_type": "execute_result"
    }
   ],
   "source": [
    "p"
   ]
  },
  {
   "cell_type": "markdown",
   "id": "f40953f2",
   "metadata": {},
   "source": [
    "## Test with real video annotations!"
   ]
  },
  {
   "cell_type": "code",
   "execution_count": 243,
   "id": "b8ef9c68",
   "metadata": {},
   "outputs": [],
   "source": [
    "import pandas as pd\n",
    "from collections import Counter"
   ]
  },
  {
   "cell_type": "code",
   "execution_count": 244,
   "id": "b889adcd",
   "metadata": {},
   "outputs": [],
   "source": [
    "vid_ann = pd.read_csv('../../urbansas_dataset/video_annotations.csv')"
   ]
  },
  {
   "cell_type": "code",
   "execution_count": 247,
   "id": "e81a19ba",
   "metadata": {},
   "outputs": [
    {
     "data": {
      "text/plain": [
       "980"
      ]
     },
     "execution_count": 247,
     "metadata": {},
     "output_type": "execute_result"
    }
   ],
   "source": [
    "fname_set = list(set(vid_ann['filename']))\n",
    "len(fname_set)"
   ]
  },
  {
   "cell_type": "code",
   "execution_count": 271,
   "id": "c552f66c",
   "metadata": {},
   "outputs": [],
   "source": [
    "# for f in fname_set:\n",
    "def get_count_x_frame_ids(vid_annotations, filename, num_instances=1):\n",
    "    # Get the frame_ids of a file with X annotations in that frame\n",
    "    dic = {}\n",
    "    curr_vid_annots = vid_annotations[(vid_annotations.filename == filename)]\n",
    "    frame_ids = list(curr_vid_annots['frame_id'])\n",
    "    count_frame_d = dict(Counter(frame_ids))\n",
    "    dic[filename] = []\n",
    "    for frame, count in count_frame_d.items():\n",
    "        if count == num_instances:\n",
    "            dic[filename].append(frame)\n",
    "    return dic"
   ]
  },
  {
   "cell_type": "code",
   "execution_count": 274,
   "id": "f1d01ad5",
   "metadata": {},
   "outputs": [
    {
     "data": {
      "text/plain": [
       "{'rivera0923_01_5': [2, 3, 4, 5, 11, 12, 13, 14, 15, 20]}"
      ]
     },
     "execution_count": 274,
     "metadata": {},
     "output_type": "execute_result"
    }
   ],
   "source": [
    "get_count_x_frame_ids(vid_ann, 'rivera0923_01_5', 1)"
   ]
  },
  {
   "cell_type": "code",
   "execution_count": 276,
   "id": "5e3b4f04",
   "metadata": {},
   "outputs": [],
   "source": [
    "single_sample = []\n",
    "for f in fname_set[:5]:\n",
    "    single_sample.append(get_count_x_frame_ids(vid_ann, f, 1))"
   ]
  },
  {
   "cell_type": "code",
   "execution_count": 277,
   "id": "71fe2068",
   "metadata": {},
   "outputs": [
    {
     "data": {
      "text/plain": [
       "[{'rivera0923_01_5': [2, 3, 4, 5, 11, 12, 13, 14, 15, 20]},\n",
       " {'street_traffic-barcelona-163-4976': []},\n",
       " {'street_traffic-vienna-176-5421': [15, 16, 17, 18, 19, 20, 21]},\n",
       " {'templete0103_02_16': [1, 4, 8, 9, 10, 11, 12, 13, 14, 15, 16]},\n",
       " {'rivera0923_00_11': [1, 2, 8]}]"
      ]
     },
     "execution_count": 277,
     "metadata": {},
     "output_type": "execute_result"
    }
   ],
   "source": [
    "single_sample"
   ]
  },
  {
   "cell_type": "code",
   "execution_count": 278,
   "id": "726b9af8",
   "metadata": {},
   "outputs": [],
   "source": [
    "# Now filter the original dataframe to get the single frame coordinates"
   ]
  },
  {
   "cell_type": "code",
   "execution_count": 350,
   "id": "67d87a45",
   "metadata": {},
   "outputs": [
    {
     "name": "stdout",
     "output_type": "stream",
     "text": [
      "[500 452 595 525]\n"
     ]
    }
   ],
   "source": [
    "# Test with one\n",
    "sing = vid_ann[(vid_ann[\"filename\"]==\"rivera0923_01_5\") & (vid_ann[\"frame_id\"]==2)].iloc[0]\n",
    "gt_coords = np.array([sing.x, sing.y, sing.x + sing.w, sing.y + sing.h]).astype(int)\n",
    "print(gt_coords)\n",
    "fake_pred_coords = [600, 200, 700, 230]"
   ]
  },
  {
   "cell_type": "code",
   "execution_count": 351,
   "id": "65f3350f",
   "metadata": {},
   "outputs": [
    {
     "name": "stdout",
     "output_type": "stream",
     "text": [
      "Norm term:  0.8438024600921772\n",
      "IoU:  0.0\n",
      "GIoU:  -0.8438024600921772\n"
     ]
    },
    {
     "data": {
      "image/png": "[encoded data removed]",
      "text/plain": [
       "<Figure size 432x288 with 1 Axes>"
      ]
     },
     "metadata": {
      "needs_background": "light"
     },
     "output_type": "display_data"
    }
   ],
   "source": [
    "s, g, p, r = giou_score(create_mask(gt_coords, frame_size=(720, 1280)), \n",
    "           create_mask(fake_pred_coords, frame_size=(720, 1280)),\n",
    "          frame_size=(720,1280))\n",
    "\n",
    "plot_rects(create_mask(gt_coords, frame_size=(720, 1280)), \n",
    "           create_mask(fake_pred_coords, frame_size=(720, 1280)),\n",
    "           r,\n",
    "          frame_size=(700, 1280))"
   ]
  },
  {
   "cell_type": "code",
   "execution_count": 360,
   "id": "5a8fc1d4",
   "metadata": {},
   "outputs": [
    {
     "name": "stdout",
     "output_type": "stream",
     "text": [
      "[500 452 595 525]\n"
     ]
    }
   ],
   "source": [
    "# Test with a closer one\n",
    "sing = vid_ann[(vid_ann[\"filename\"]==\"rivera0923_01_5\") & (vid_ann[\"frame_id\"]==2)].iloc[0]\n",
    "gt_coords = np.array([sing.x, sing.y, sing.x + sing.w, sing.y + sing.h]).astype(int)\n",
    "print(gt_coords)\n",
    "fake_pred_coords = [500, 300, 600, 330]"
   ]
  },
  {
   "cell_type": "code",
   "execution_count": 366,
   "id": "97a7bc16",
   "metadata": {},
   "outputs": [
    {
     "name": "stdout",
     "output_type": "stream",
     "text": [
      "Norm term:  0.5516078156488216\n",
      "IoU:  0.0\n",
      "GIoU:  -0.5516078156488216\n"
     ]
    },
    {
     "data": {
      "image/png": "[encoded data removed]",
      "text/plain": [
       "<Figure size 432x288 with 1 Axes>"
      ]
     },
     "metadata": {
      "needs_background": "light"
     },
     "output_type": "display_data"
    }
   ],
   "source": [
    "s, g, p, r = giou_score2(create_mask(gt_coords, frame_size=(720, 1280)), \n",
    "           fake_pred_coords,\n",
    "          frame_size=(720,1280))\n",
    "\n",
    "plot_rects(create_mask(gt_coords, frame_size=(720, 1280)), \n",
    "           create_mask(fake_pred_coords, frame_size=(720, 1280)),\n",
    "           r,\n",
    "          frame_size=(700, 1280))"
   ]
  },
  {
   "cell_type": "markdown",
   "id": "8220d121",
   "metadata": {},
   "source": [
    "## [OLD] Unidimensional mask, do they work?"
   ]
  },
  {
   "cell_type": "code",
   "execution_count": null,
   "id": "fcce9b3d-a1cb-455c-b71c-205cda92f612",
   "metadata": {},
   "outputs": [],
   "source": [
    "mask_size = (1,50)\n",
    "mask = np.zeros(mask_size)\n",
    "box = [20, 0, 40, 1]\n",
    "score = iou_score(mask, [box], bbox_size=mask_size)\n",
    "assert score[0] == 0, score  # this is a hard one, if the mask is empty but the gth is not the score is 0!\n",
    "box = [0,0,0,0]\n",
    "score = iou_score(mask, [box], bbox_size=mask_size)\n",
    "assert score[0] == 1, score \n",
    "mask[:,20:40] = 1\n",
    "score = iou_score(mask, [box], bbox_size=mask_size)\n",
    "assert score[0] == 0, score  # this is a hard one, if the box is empty but the mask is not the score is 0!\n",
    "box = [20, 0, 40, 1]\n",
    "score = iou_score(mask, [box], bbox_size=mask_size)\n",
    "assert score[0] == 1, score\n",
    "box = [10, 0, 20, 1]\n",
    "score = iou_score(mask, [box], bbox_size=mask_size)\n",
    "assert score[0] == 0, score\n",
    "box = [0, 0, 30, 1]\n",
    "score = iou_score(mask, [box], bbox_size=mask_size)\n",
    "assert score[0] == 0.25, score\n",
    "box = [10, 0, 30, 1]\n",
    "score = iou_score(mask, [box], bbox_size=mask_size)\n",
    "assert score[0] == 1/3, score\n",
    "box = [0, 0, 40, 1]\n",
    "score = iou_score(mask, [box], bbox_size=mask_size)\n",
    "assert score[0] == 0.5, score"
   ]
  },
  {
   "cell_type": "code",
   "execution_count": null,
   "id": "dc75dc90-6a0b-4fd1-ae2c-34a6a2c57b01",
   "metadata": {},
   "outputs": [],
   "source": [
    "35*0.25"
   ]
  },
  {
   "cell_type": "code",
   "execution_count": null,
   "id": "6ac9489d-397e-4a8b-ad05-34a75632c76f",
   "metadata": {},
   "outputs": [],
   "source": [
    "score[1].shape"
   ]
  },
  {
   "cell_type": "code",
   "execution_count": null,
   "id": "6b795ae9-00b1-4e69-a1cd-259296fb5fcb",
   "metadata": {},
   "outputs": [],
   "source": [
    "# import matplotlib.pyplot as plt\n",
    "# plt.plot(score[1])"
   ]
  },
  {
   "cell_type": "code",
   "execution_count": null,
   "id": "3024ccb5-4853-45a3-b8cc-d5278affdd92",
   "metadata": {},
   "outputs": [],
   "source": [
    "score"
   ]
  },
  {
   "cell_type": "code",
   "execution_count": null,
   "id": "3d5f9be0-6365-410c-9634-4ddcc839e742",
   "metadata": {},
   "outputs": [],
   "source": [
    "import scipy\n",
    "\n",
    "def dialations(mask, n=None):\n",
    "    mask = np.asarray(mask)\n",
    "    yield mask\n",
    "    for i in range(n or mask.shape[-1]):\n",
    "        mask = (scipy.signal.convolve2d(mask, [[1, 1, 1]], mode='same', boundary='symm') > 0).astype(float)\n",
    "        yield mask\n",
    "\n",
    "def iou_dialate(pred, gt, n=None):\n",
    "    pred = np.asarray(pred)\n",
    "    ious = []\n",
    "    for mask in dialations(gt, n):\n",
    "        ious.append(iou_score(mask, pred, bbox_size=mask.shape)[0])\n",
    "    return ious"
   ]
  },
  {
   "cell_type": "code",
   "execution_count": null,
   "id": "5c5b211d-ec22-40c0-98dc-0409f4779cd3",
   "metadata": {},
   "outputs": [],
   "source": [
    "mask = np.zeros((1, 15))\n",
    "mask[:,6:8] = 1\n",
    "mask[:,10:12] = 1\n",
    "box = [[0, 0, 14, 0]]\n",
    "ious = iou_dialate(box, mask)\n",
    "plt.plot(ious)\n",
    "plt.ylim([0, None])\n",
    "plt.show()\n",
    "# box = [20, 0, 40, 1]\n",
    "for i, (iou, m) in enumerate(zip(ious, dialations(mask))):\n",
    "#     print(m)\n",
    "    plt.title(f'dialation={i} iou={iou}')\n",
    "    plt.imshow(m, vmin=0, vmax=1)\n",
    "    for b in box:\n",
    "        plt.plot([b[0], b[2]], [0,0])\n",
    "    plt.show()\n",
    "plt.close()"
   ]
  },
  {
   "cell_type": "code",
   "execution_count": null,
   "id": "26670222-877e-4383-810f-47802b59a4b6",
   "metadata": {},
   "outputs": [],
   "source": [
    "mask = np.zeros((1, 15))\n",
    "mask[:,6:8] = 1\n",
    "# mask[:,10:12] = 1\n",
    "box = [[3, 0, 5, 0]]\n",
    "ious = iou_dialate(box, mask)\n",
    "plt.plot(ious)\n",
    "plt.ylim([0, None])\n",
    "plt.show()\n",
    "# box = [20, 0, 40, 1]\n",
    "for i, (iou, m) in enumerate(zip(ious, dialations(mask))):\n",
    "#     print(m)\n",
    "    plt.title(f'dialation={i} iou={iou}')\n",
    "    plt.imshow(m, vmin=0, vmax=1)\n",
    "    for b in box:\n",
    "        plt.plot([b[0], b[2]], [0,0])\n",
    "    plt.show()\n",
    "plt.close()"
   ]
  },
  {
   "cell_type": "code",
   "execution_count": null,
   "id": "f96cfbc0-6bb8-4e21-80b5-3580f61637a8",
   "metadata": {},
   "outputs": [],
   "source": [
    "mask = np.zeros((1, 15))\n",
    "mask[:,6:8] = 1\n",
    "mask[:,10:12] = 1\n",
    "box = [[3, 0, 5, 0], [10, 0, 11, 0]]\n",
    "ious = iou_dialate(box, mask)\n",
    "plt.plot(ious)\n",
    "plt.ylim([0, None])\n",
    "plt.show()\n",
    "# box = [20, 0, 40, 1]\n",
    "for i, (iou, m) in enumerate(zip(ious, dialations(mask))):\n",
    "#     print(m)\n",
    "    plt.title(f'dialation={i} iou={iou}')\n",
    "    plt.imshow(m, vmin=0, vmax=1)\n",
    "    for b in box:\n",
    "        plt.plot([b[0], b[2]], [0,0])\n",
    "    plt.show()\n",
    "plt.close()"
   ]
  },
  {
   "cell_type": "code",
   "execution_count": null,
   "id": "40b84e85-efc9-47a2-b0ce-4d516ee88446",
   "metadata": {},
   "outputs": [],
   "source": []
  },
  {
   "cell_type": "code",
   "execution_count": null,
   "id": "3e196e8a",
   "metadata": {},
   "outputs": [],
   "source": []
  }
 ],
 "metadata": {
  "kernelspec": {
   "display_name": "Python 3 (ipykernel)",
   "language": "python",
   "name": "python3"
  },
  "language_info": {
   "codemirror_mode": {
    "name": "ipython",
    "version": 3
   },
   "file_extension": ".py",
   "mimetype": "text/x-python",
   "name": "python",
   "nbconvert_exporter": "python",
   "pygments_lexer": "ipython3",
   "version": "3.9.7"
  }
 },
 "nbformat": 4,
 "nbformat_minor": 5
}